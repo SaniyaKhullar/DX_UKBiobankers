{
 "cells": [
  {
   "cell_type": "markdown",
   "id": "a73d2ee0",
   "metadata": {},
   "source": [
    "# Step 2:\n",
    "## Extracting SNPs (Variants) from PGS Catalog Score Files\n",
    "### By: Saniya Khullar :)"
   ]
  },
  {
   "cell_type": "code",
   "execution_count": 16,
   "id": "11db97d9",
   "metadata": {},
   "outputs": [],
   "source": [
    "import os\n",
    "from tqdm.auto import tqdm\n",
    "import pandas as pd\n",
    "import numpy as np\n",
    "from collections import defaultdict"
   ]
  },
  {
   "cell_type": "code",
   "execution_count": 17,
   "id": "775ba5d6",
   "metadata": {},
   "outputs": [
    {
     "data": {
      "text/plain": [
       "'/Users/sk37/Desktop/saniya_demo/score_file'"
      ]
     },
     "execution_count": 17,
     "metadata": {},
     "output_type": "execute_result"
    }
   ],
   "source": [
    "input_file = \"/Users/sk37/Desktop/saniya_demo/score_file/PGS000053.txt\"\n",
    "dir_name = os.path.dirname(os.path.abspath(input_file))\n",
    "dir_name"
   ]
  },
  {
   "cell_type": "code",
   "execution_count": 18,
   "id": "fc578bcc",
   "metadata": {},
   "outputs": [
    {
     "name": "stdout",
     "output_type": "stream",
     "text": [
      ":) Please note: pgs_id = PGS000053 and genome_build = GRCh37\n"
     ]
    }
   ],
   "source": [
    "# Read file\n",
    "with open(input_file, \"r\") as f:\n",
    "    lines = f.readlines()\n",
    "\n",
    "# Extract pgs_id and genome_build from header\n",
    "pgs_id = None\n",
    "genome_build = None\n",
    "for line in lines:\n",
    "    if line.startswith(\"#pgs_id=\"):\n",
    "        pgs_id = line.strip().split(\"=\")[1]\n",
    "    elif line.startswith(\"#genome_build=\"):\n",
    "        genome_build = line.strip().split(\"=\")[1]\n",
    "\n",
    "if not pgs_id or not genome_build:\n",
    "    raise ValueError(\"pgs_id or genome_build missing in file header.\")\n",
    "print(f\":) Please note: pgs_id = {pgs_id} and genome_build = {genome_build}\")\n"
   ]
  },
  {
   "cell_type": "code",
   "execution_count": 19,
   "id": "c2bd2cf0",
   "metadata": {},
   "outputs": [
    {
     "name": "stderr",
     "output_type": "stream",
     "text": [
      ":) going through each line to find start of score data: 100%|██████████| 36/36 [00:00<00:00, 247939.15it/s]"
     ]
    },
    {
     "name": "stdout",
     "output_type": "stream",
     "text": [
      "Saved SNP table to /Users/sk37/Desktop/saniya_demo/score_file/PGS000053_SNPs_GRCh37.tsv\n"
     ]
    },
    {
     "name": "stderr",
     "output_type": "stream",
     "text": [
      "\n"
     ]
    }
   ],
   "source": [
    "# Extract SNP table (start at header \"rsID\")\n",
    "snp_lines = []\n",
    "header_found = False\n",
    "for line in tqdm(lines, desc = \":) going through each line to find start of score data\"):\n",
    "    if line.startswith(\"rsID\"):\n",
    "        header_found = True\n",
    "        snp_lines.append(line.strip())  # include header\n",
    "        continue\n",
    "    if header_found:\n",
    "        if line.strip() and not line.startswith(\"#\"):\n",
    "            snp_lines.append(line.strip())\n",
    "\n",
    "# Save SNP table to TSV\n",
    "output_tsv = os.path.join(dir_name, f\"{pgs_id}_SNPs_{genome_build}.tsv\")\n",
    "with open(output_tsv, \"w\") as f:\n",
    "    f.write(\"\\n\".join(snp_lines) + \"\\n\")\n",
    "\n",
    "print(f\"Saved SNP table to {output_tsv}\")"
   ]
  },
  {
   "cell_type": "code",
   "execution_count": 31,
   "id": "6469e938",
   "metadata": {},
   "outputs": [
    {
     "name": "stdout",
     "output_type": "stream",
     "text": [
      "Created per-chromosome SNP coordinate files in /Users/sk37/Desktop/saniya_demo/score_file/per_chrom_snp_files_PGS000053\n"
     ]
    }
   ],
   "source": [
    "import os\n",
    "from collections import defaultdict\n",
    "\n",
    "# Create subdirectory for per-chromosome files\n",
    "subdir = os.path.join(dir_name, f\"per_chrom_snp_files_{pgs_id}\")\n",
    "subdir1 = os.path.join(subdir, \"ranges\")\n",
    "subdir2 = os.path.join(subdir, \"rsids\")\n",
    "\n",
    "os.makedirs(subdir, exist_ok=True)\n",
    "os.makedirs(subdir1, exist_ok=True)\n",
    "os.makedirs(subdir2, exist_ok=True)\n",
    "\n",
    "# Ordered dicts for uniqueness while preserving input order\n",
    "chrom_ranges = defaultdict(dict)\n",
    "chrom_rsids = defaultdict(dict)\n",
    "\n",
    "chrom_found_list = []\n",
    "\n",
    "# Collect SNPs\n",
    "for row in snp_lines[1:]:  # skip header\n",
    "    rsID, chr_name, chr_pos, *_ = row.split(\"\\t\")\n",
    "    chr_pos = int(chr_pos)\n",
    "\n",
    "    # Format chromosome with leading zero if < 10\n",
    "    if chr_name.isdigit() and int(chr_name) < 10:\n",
    "        chr_fmt = f\"{int(chr_name):02d}\"\n",
    "    else:\n",
    "        chr_fmt = chr_name\n",
    "\n",
    "    chrom_found_list.append(chr_name)\n",
    "\n",
    "    # Use dict keys for uniqueness, keeps insertion order\n",
    "    chrom_ranges[chr_name][f\"{chr_fmt}:{chr_pos}-{chr_pos}\"] = None\n",
    "    chrom_rsids[chr_name][rsID] = None\n",
    "\n",
    "# Write unique SNPs per chromosome (in original input order)\n",
    "for chr_name in chrom_ranges:\n",
    "    chr_file_ranges = os.path.join(subdir1, f\"{pgs_id}_chr{chr_name}_{genome_build}_ranges.txt\")\n",
    "    chr_file_rsids = os.path.join(subdir2, f\"{pgs_id}_chr{chr_name}_{genome_build}_rsids.txt\")\n",
    "\n",
    "    with open(chr_file_ranges, \"w\") as cf:\n",
    "        for entry in chrom_ranges[chr_name].keys():\n",
    "            cf.write(entry + \"\\n\")\n",
    "\n",
    "    with open(chr_file_rsids, \"w\") as cf:\n",
    "        for entry in chrom_rsids[chr_name].keys():\n",
    "            cf.write(entry + \"\\n\")\n",
    "\n",
    "print(f\"Created per-chromosome SNP coordinate files in {subdir}\")\n"
   ]
  },
  {
   "cell_type": "code",
   "execution_count": null,
   "id": "ffa1f63f",
   "metadata": {},
   "outputs": [],
   "source": []
  },
  {
   "cell_type": "code",
   "execution_count": null,
   "id": "f8a4dffe",
   "metadata": {},
   "outputs": [],
   "source": []
  },
  {
   "cell_type": "code",
   "execution_count": null,
   "id": "5f552c6e",
   "metadata": {},
   "outputs": [],
   "source": []
  },
  {
   "cell_type": "code",
   "execution_count": 21,
   "id": "7d17c906",
   "metadata": {},
   "outputs": [
    {
     "name": "stdout",
     "output_type": "stream",
     "text": [
      ":) before ['1', '2', '2', '5', '6', '6', '7', '7', '7', '8', '8', '11', '11', '11', '11', '14', '14', '18', '19', '19', '20']\n",
      ":) after [1, 2, 5, 6, 7, 8, 11, 14, 18, 19, 20]\n"
     ]
    }
   ],
   "source": [
    "print(f\":) before {chrom_found_list}\")\n",
    "chrom_found_list = list(set(chrom_found_list))\n",
    "chrom_found_list = [int(i) for i in chrom_found_list]\n",
    "chrom_found_list.sort()\n",
    "print(f\":) after {chrom_found_list}\")"
   ]
  },
  {
   "cell_type": "code",
   "execution_count": 22,
   "id": "280c7de0",
   "metadata": {},
   "outputs": [
    {
     "data": {
      "text/html": [
       "<div>\n",
       "<style scoped>\n",
       "    .dataframe tbody tr th:only-of-type {\n",
       "        vertical-align: middle;\n",
       "    }\n",
       "\n",
       "    .dataframe tbody tr th {\n",
       "        vertical-align: top;\n",
       "    }\n",
       "\n",
       "    .dataframe thead th {\n",
       "        text-align: right;\n",
       "    }\n",
       "</style>\n",
       "<table border=\"1\" class=\"dataframe\">\n",
       "  <thead>\n",
       "    <tr style=\"text-align: right;\">\n",
       "      <th></th>\n",
       "      <th>chr_name</th>\n",
       "    </tr>\n",
       "  </thead>\n",
       "  <tbody>\n",
       "    <tr>\n",
       "      <th>0</th>\n",
       "      <td>1</td>\n",
       "    </tr>\n",
       "    <tr>\n",
       "      <th>1</th>\n",
       "      <td>2</td>\n",
       "    </tr>\n",
       "    <tr>\n",
       "      <th>2</th>\n",
       "      <td>5</td>\n",
       "    </tr>\n",
       "    <tr>\n",
       "      <th>3</th>\n",
       "      <td>6</td>\n",
       "    </tr>\n",
       "    <tr>\n",
       "      <th>4</th>\n",
       "      <td>7</td>\n",
       "    </tr>\n",
       "    <tr>\n",
       "      <th>5</th>\n",
       "      <td>8</td>\n",
       "    </tr>\n",
       "    <tr>\n",
       "      <th>6</th>\n",
       "      <td>11</td>\n",
       "    </tr>\n",
       "    <tr>\n",
       "      <th>7</th>\n",
       "      <td>14</td>\n",
       "    </tr>\n",
       "    <tr>\n",
       "      <th>8</th>\n",
       "      <td>18</td>\n",
       "    </tr>\n",
       "    <tr>\n",
       "      <th>9</th>\n",
       "      <td>19</td>\n",
       "    </tr>\n",
       "    <tr>\n",
       "      <th>10</th>\n",
       "      <td>20</td>\n",
       "    </tr>\n",
       "  </tbody>\n",
       "</table>\n",
       "</div>"
      ],
      "text/plain": [
       "    chr_name\n",
       "0          1\n",
       "1          2\n",
       "2          5\n",
       "3          6\n",
       "4          7\n",
       "5          8\n",
       "6         11\n",
       "7         14\n",
       "8         18\n",
       "9         19\n",
       "10        20"
      ]
     },
     "execution_count": 22,
     "metadata": {},
     "output_type": "execute_result"
    }
   ],
   "source": [
    "chrom_found_df = pd.DataFrame(list(set(chrom_found_list)))\n",
    "chrom_found_df.columns = [\"chr_name\"]\n",
    "chrom_found_df = chrom_found_df.drop_duplicates()\n",
    "chrom_found_df"
   ]
  },
  {
   "cell_type": "code",
   "execution_count": 23,
   "id": "267b4087",
   "metadata": {},
   "outputs": [
    {
     "data": {
      "text/plain": [
       "'/Users/sk37/Desktop/saniya_demo/score_file/per_chrom_snp_files_PGS000053/chromNames_PGS000053.txt'"
      ]
     },
     "execution_count": 23,
     "metadata": {},
     "output_type": "execute_result"
    }
   ],
   "source": [
    "chr_nums_outpath = os.path.join(subdir, f\"chromNames_{pgs_id}.txt\")\n",
    "chr_nums_outpath"
   ]
  },
  {
   "cell_type": "code",
   "execution_count": 24,
   "id": "bb9a6a5a",
   "metadata": {},
   "outputs": [],
   "source": [
    "chrom_found_df.to_csv(chr_nums_outpath, header = None, index = None)"
   ]
  },
  {
   "cell_type": "code",
   "execution_count": null,
   "id": "a3352caf",
   "metadata": {},
   "outputs": [],
   "source": []
  },
  {
   "cell_type": "code",
   "execution_count": null,
   "id": "e824613c",
   "metadata": {},
   "outputs": [],
   "source": []
  },
  {
   "cell_type": "code",
   "execution_count": null,
   "id": "71d816c4",
   "metadata": {},
   "outputs": [],
   "source": []
  },
  {
   "cell_type": "code",
   "execution_count": null,
   "id": "c67d0f8e",
   "metadata": {},
   "outputs": [],
   "source": []
  },
  {
   "cell_type": "markdown",
   "id": "ab3b11ec",
   "metadata": {},
   "source": [
    "### Please create the name of all of the bed files that we will use for merging later on (Step 5):\n"
   ]
  },
  {
   "cell_type": "code",
   "execution_count": 25,
   "id": "d2a22b4c",
   "metadata": {},
   "outputs": [],
   "source": [
    "bed_file_outname = \"all_subset_variants_PGS000053_GRCh37_chr\""
   ]
  },
  {
   "cell_type": "code",
   "execution_count": 26,
   "id": "8b2d5b8f",
   "metadata": {},
   "outputs": [
    {
     "data": {
      "text/plain": [
       "[1, 2, 5, 6, 7, 8, 11, 14, 18, 19, 20]"
      ]
     },
     "execution_count": 26,
     "metadata": {},
     "output_type": "execute_result"
    }
   ],
   "source": [
    "chrom_found_list"
   ]
  },
  {
   "cell_type": "code",
   "execution_count": 27,
   "id": "4f353052",
   "metadata": {},
   "outputs": [
    {
     "name": "stdout",
     "output_type": "stream",
     "text": [
      "[['all_subset_variants_PGS000053_GRCh37_chr1.bed', 'all_subset_variants_PGS000053_GRCh37_chr1.bim', 'all_subset_variants_PGS000053_GRCh37_chr1.fam'], ['all_subset_variants_PGS000053_GRCh37_chr2.bed', 'all_subset_variants_PGS000053_GRCh37_chr2.bim', 'all_subset_variants_PGS000053_GRCh37_chr2.fam'], ['all_subset_variants_PGS000053_GRCh37_chr5.bed', 'all_subset_variants_PGS000053_GRCh37_chr5.bim', 'all_subset_variants_PGS000053_GRCh37_chr5.fam'], ['all_subset_variants_PGS000053_GRCh37_chr6.bed', 'all_subset_variants_PGS000053_GRCh37_chr6.bim', 'all_subset_variants_PGS000053_GRCh37_chr6.fam'], ['all_subset_variants_PGS000053_GRCh37_chr7.bed', 'all_subset_variants_PGS000053_GRCh37_chr7.bim', 'all_subset_variants_PGS000053_GRCh37_chr7.fam'], ['all_subset_variants_PGS000053_GRCh37_chr8.bed', 'all_subset_variants_PGS000053_GRCh37_chr8.bim', 'all_subset_variants_PGS000053_GRCh37_chr8.fam'], ['all_subset_variants_PGS000053_GRCh37_chr11.bed', 'all_subset_variants_PGS000053_GRCh37_chr11.bim', 'all_subset_variants_PGS000053_GRCh37_chr11.fam'], ['all_subset_variants_PGS000053_GRCh37_chr14.bed', 'all_subset_variants_PGS000053_GRCh37_chr14.bim', 'all_subset_variants_PGS000053_GRCh37_chr14.fam'], ['all_subset_variants_PGS000053_GRCh37_chr18.bed', 'all_subset_variants_PGS000053_GRCh37_chr18.bim', 'all_subset_variants_PGS000053_GRCh37_chr18.fam'], ['all_subset_variants_PGS000053_GRCh37_chr19.bed', 'all_subset_variants_PGS000053_GRCh37_chr19.bim', 'all_subset_variants_PGS000053_GRCh37_chr19.fam'], ['all_subset_variants_PGS000053_GRCh37_chr20.bed', 'all_subset_variants_PGS000053_GRCh37_chr20.bim', 'all_subset_variants_PGS000053_GRCh37_chr20.fam']]\n"
     ]
    }
   ],
   "source": [
    "merge_filepaths_list = []\n",
    "for chrom in chrom_found_list:\n",
    "    outname_full = \"all_subset_variants_PGS000053_GRCh37_chr\" + str(chrom)\n",
    "    bed_name = outname_full + \".bed\"\n",
    "    bim_name = outname_full + \".bim\"\n",
    "    fam_name = outname_full + \".fam\"\n",
    "    list_to_add = [bed_name, bim_name, fam_name]\n",
    "    merge_filepaths_list.append(list_to_add)\n",
    "print(merge_filepaths_list)"
   ]
  },
  {
   "cell_type": "code",
   "execution_count": 28,
   "id": "c450230a",
   "metadata": {},
   "outputs": [
    {
     "data": {
      "text/html": [
       "<div>\n",
       "<style scoped>\n",
       "    .dataframe tbody tr th:only-of-type {\n",
       "        vertical-align: middle;\n",
       "    }\n",
       "\n",
       "    .dataframe tbody tr th {\n",
       "        vertical-align: top;\n",
       "    }\n",
       "\n",
       "    .dataframe thead th {\n",
       "        text-align: right;\n",
       "    }\n",
       "</style>\n",
       "<table border=\"1\" class=\"dataframe\">\n",
       "  <thead>\n",
       "    <tr style=\"text-align: right;\">\n",
       "      <th></th>\n",
       "      <th>0</th>\n",
       "      <th>1</th>\n",
       "      <th>2</th>\n",
       "    </tr>\n",
       "  </thead>\n",
       "  <tbody>\n",
       "    <tr>\n",
       "      <th>0</th>\n",
       "      <td>all_subset_variants_PGS000053_GRCh37_chr1.bed</td>\n",
       "      <td>all_subset_variants_PGS000053_GRCh37_chr1.bim</td>\n",
       "      <td>all_subset_variants_PGS000053_GRCh37_chr1.fam</td>\n",
       "    </tr>\n",
       "    <tr>\n",
       "      <th>1</th>\n",
       "      <td>all_subset_variants_PGS000053_GRCh37_chr2.bed</td>\n",
       "      <td>all_subset_variants_PGS000053_GRCh37_chr2.bim</td>\n",
       "      <td>all_subset_variants_PGS000053_GRCh37_chr2.fam</td>\n",
       "    </tr>\n",
       "    <tr>\n",
       "      <th>2</th>\n",
       "      <td>all_subset_variants_PGS000053_GRCh37_chr5.bed</td>\n",
       "      <td>all_subset_variants_PGS000053_GRCh37_chr5.bim</td>\n",
       "      <td>all_subset_variants_PGS000053_GRCh37_chr5.fam</td>\n",
       "    </tr>\n",
       "    <tr>\n",
       "      <th>3</th>\n",
       "      <td>all_subset_variants_PGS000053_GRCh37_chr6.bed</td>\n",
       "      <td>all_subset_variants_PGS000053_GRCh37_chr6.bim</td>\n",
       "      <td>all_subset_variants_PGS000053_GRCh37_chr6.fam</td>\n",
       "    </tr>\n",
       "    <tr>\n",
       "      <th>4</th>\n",
       "      <td>all_subset_variants_PGS000053_GRCh37_chr7.bed</td>\n",
       "      <td>all_subset_variants_PGS000053_GRCh37_chr7.bim</td>\n",
       "      <td>all_subset_variants_PGS000053_GRCh37_chr7.fam</td>\n",
       "    </tr>\n",
       "    <tr>\n",
       "      <th>5</th>\n",
       "      <td>all_subset_variants_PGS000053_GRCh37_chr8.bed</td>\n",
       "      <td>all_subset_variants_PGS000053_GRCh37_chr8.bim</td>\n",
       "      <td>all_subset_variants_PGS000053_GRCh37_chr8.fam</td>\n",
       "    </tr>\n",
       "    <tr>\n",
       "      <th>6</th>\n",
       "      <td>all_subset_variants_PGS000053_GRCh37_chr11.bed</td>\n",
       "      <td>all_subset_variants_PGS000053_GRCh37_chr11.bim</td>\n",
       "      <td>all_subset_variants_PGS000053_GRCh37_chr11.fam</td>\n",
       "    </tr>\n",
       "    <tr>\n",
       "      <th>7</th>\n",
       "      <td>all_subset_variants_PGS000053_GRCh37_chr14.bed</td>\n",
       "      <td>all_subset_variants_PGS000053_GRCh37_chr14.bim</td>\n",
       "      <td>all_subset_variants_PGS000053_GRCh37_chr14.fam</td>\n",
       "    </tr>\n",
       "    <tr>\n",
       "      <th>8</th>\n",
       "      <td>all_subset_variants_PGS000053_GRCh37_chr18.bed</td>\n",
       "      <td>all_subset_variants_PGS000053_GRCh37_chr18.bim</td>\n",
       "      <td>all_subset_variants_PGS000053_GRCh37_chr18.fam</td>\n",
       "    </tr>\n",
       "    <tr>\n",
       "      <th>9</th>\n",
       "      <td>all_subset_variants_PGS000053_GRCh37_chr19.bed</td>\n",
       "      <td>all_subset_variants_PGS000053_GRCh37_chr19.bim</td>\n",
       "      <td>all_subset_variants_PGS000053_GRCh37_chr19.fam</td>\n",
       "    </tr>\n",
       "    <tr>\n",
       "      <th>10</th>\n",
       "      <td>all_subset_variants_PGS000053_GRCh37_chr20.bed</td>\n",
       "      <td>all_subset_variants_PGS000053_GRCh37_chr20.bim</td>\n",
       "      <td>all_subset_variants_PGS000053_GRCh37_chr20.fam</td>\n",
       "    </tr>\n",
       "  </tbody>\n",
       "</table>\n",
       "</div>"
      ],
      "text/plain": [
       "                                                 0  \\\n",
       "0    all_subset_variants_PGS000053_GRCh37_chr1.bed   \n",
       "1    all_subset_variants_PGS000053_GRCh37_chr2.bed   \n",
       "2    all_subset_variants_PGS000053_GRCh37_chr5.bed   \n",
       "3    all_subset_variants_PGS000053_GRCh37_chr6.bed   \n",
       "4    all_subset_variants_PGS000053_GRCh37_chr7.bed   \n",
       "5    all_subset_variants_PGS000053_GRCh37_chr8.bed   \n",
       "6   all_subset_variants_PGS000053_GRCh37_chr11.bed   \n",
       "7   all_subset_variants_PGS000053_GRCh37_chr14.bed   \n",
       "8   all_subset_variants_PGS000053_GRCh37_chr18.bed   \n",
       "9   all_subset_variants_PGS000053_GRCh37_chr19.bed   \n",
       "10  all_subset_variants_PGS000053_GRCh37_chr20.bed   \n",
       "\n",
       "                                                 1  \\\n",
       "0    all_subset_variants_PGS000053_GRCh37_chr1.bim   \n",
       "1    all_subset_variants_PGS000053_GRCh37_chr2.bim   \n",
       "2    all_subset_variants_PGS000053_GRCh37_chr5.bim   \n",
       "3    all_subset_variants_PGS000053_GRCh37_chr6.bim   \n",
       "4    all_subset_variants_PGS000053_GRCh37_chr7.bim   \n",
       "5    all_subset_variants_PGS000053_GRCh37_chr8.bim   \n",
       "6   all_subset_variants_PGS000053_GRCh37_chr11.bim   \n",
       "7   all_subset_variants_PGS000053_GRCh37_chr14.bim   \n",
       "8   all_subset_variants_PGS000053_GRCh37_chr18.bim   \n",
       "9   all_subset_variants_PGS000053_GRCh37_chr19.bim   \n",
       "10  all_subset_variants_PGS000053_GRCh37_chr20.bim   \n",
       "\n",
       "                                                 2  \n",
       "0    all_subset_variants_PGS000053_GRCh37_chr1.fam  \n",
       "1    all_subset_variants_PGS000053_GRCh37_chr2.fam  \n",
       "2    all_subset_variants_PGS000053_GRCh37_chr5.fam  \n",
       "3    all_subset_variants_PGS000053_GRCh37_chr6.fam  \n",
       "4    all_subset_variants_PGS000053_GRCh37_chr7.fam  \n",
       "5    all_subset_variants_PGS000053_GRCh37_chr8.fam  \n",
       "6   all_subset_variants_PGS000053_GRCh37_chr11.fam  \n",
       "7   all_subset_variants_PGS000053_GRCh37_chr14.fam  \n",
       "8   all_subset_variants_PGS000053_GRCh37_chr18.fam  \n",
       "9   all_subset_variants_PGS000053_GRCh37_chr19.fam  \n",
       "10  all_subset_variants_PGS000053_GRCh37_chr20.fam  "
      ]
     },
     "execution_count": 28,
     "metadata": {},
     "output_type": "execute_result"
    }
   ],
   "source": [
    "merge_filepaths_df = pd.DataFrame(merge_filepaths_list)\n",
    "merge_filepaths_df"
   ]
  },
  {
   "cell_type": "code",
   "execution_count": 29,
   "id": "6e223951",
   "metadata": {},
   "outputs": [
    {
     "data": {
      "text/plain": [
       "'prep_files/bed_files_to_merge_PGS000053_GRCh37_step5.txt'"
      ]
     },
     "execution_count": 29,
     "metadata": {},
     "output_type": "execute_result"
    }
   ],
   "source": [
    "merge_filepaths_output_name = f\"prep_files/bed_files_to_merge_{pgs_id}_{genome_build}_step5.txt\"\n",
    "merge_filepaths_output_name"
   ]
  },
  {
   "cell_type": "code",
   "execution_count": 30,
   "id": "29fa3b92",
   "metadata": {},
   "outputs": [],
   "source": [
    "merge_filepaths_df.to_csv(merge_filepaths_output_name, header = None, index=False, sep = \"\\t\")"
   ]
  }
 ],
 "metadata": {
  "kernelspec": {
   "display_name": "Python 3",
   "language": "python",
   "name": "python3"
  },
  "language_info": {
   "codemirror_mode": {
    "name": "ipython",
    "version": 3
   },
   "file_extension": ".py",
   "mimetype": "text/x-python",
   "name": "python",
   "nbconvert_exporter": "python",
   "pygments_lexer": "ipython3",
   "version": "3.9.6"
  }
 },
 "nbformat": 4,
 "nbformat_minor": 5
}
