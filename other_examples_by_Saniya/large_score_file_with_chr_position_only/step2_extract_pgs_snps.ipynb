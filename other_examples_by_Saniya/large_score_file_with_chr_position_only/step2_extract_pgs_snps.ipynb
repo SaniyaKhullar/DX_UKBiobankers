{
 "cells": [
  {
   "cell_type": "markdown",
   "id": "a73d2ee0",
   "metadata": {},
   "source": [
    "# Step 2:\n",
    "## Extracting SNPs (Variants) from PGS Catalog Score Files\n",
    "### By: Saniya Khullar :)"
   ]
  },
  {
   "cell_type": "code",
   "execution_count": 15,
   "id": "11db97d9",
   "metadata": {},
   "outputs": [],
   "source": [
    "import os\n",
    "from tqdm.auto import tqdm\n",
    "import pandas as pd\n",
    "import numpy as np\n",
    "from collections import defaultdict\n",
    "import math\n"
   ]
  },
  {
   "cell_type": "code",
   "execution_count": null,
   "id": "775ba5d6",
   "metadata": {},
   "outputs": [],
   "source": [
    "parent_file = \"/Users/sk37/Desktop/another_demo/\"\n",
    "input_file = parent_file + \"score_file/PGS002724.txt\"\n",
    "dna_nexus_project_folder = \"IBD_Projects_Saniya:/another_saniya_demo/\" # the main folder we are working with in dnanexus\n",
    "snp_threshold = 5000  # max SNPs per file\n",
    "\n"
   ]
  },
  {
   "cell_type": "code",
   "execution_count": 5,
   "id": "fc578bcc",
   "metadata": {},
   "outputs": [
    {
     "name": "stdout",
     "output_type": "stream",
     "text": [
      "/Users/sk37/Desktop/another_demo/score_file\n",
      ":) Please note: pgs_id = PGS002724 and genome_build = GRCh37\n"
     ]
    }
   ],
   "source": [
    "dir_name = os.path.dirname(os.path.abspath(input_file))\n",
    "print(dir_name)\n",
    "\n",
    "# Read file\n",
    "with open(input_file, \"r\") as f:\n",
    "    lines = f.readlines()\n",
    "\n",
    "# Extract pgs_id and genome_build from header\n",
    "pgs_id = None\n",
    "genome_build = None\n",
    "for line in lines:\n",
    "    if line.startswith(\"#pgs_id=\"):\n",
    "        pgs_id = line.strip().split(\"=\")[1]\n",
    "    elif line.startswith(\"#genome_build=\"):\n",
    "        genome_build = line.strip().split(\"=\")[1]\n",
    "\n",
    "if not pgs_id or not genome_build:\n",
    "    raise ValueError(\"pgs_id or genome_build missing in file header.\")\n",
    "print(f\":) Please note: pgs_id = {pgs_id} and genome_build = {genome_build}\")\n"
   ]
  },
  {
   "cell_type": "code",
   "execution_count": 7,
   "id": "c2bd2cf0",
   "metadata": {},
   "outputs": [
    {
     "name": "stderr",
     "output_type": "stream",
     "text": [
      ":) going through each line to find start of score data: 100%|██████████| 1213589/1213589 [00:00<00:00, 3167175.66it/s]\n"
     ]
    },
    {
     "name": "stdout",
     "output_type": "stream",
     "text": [
      "Saved SNP table to /Users/sk37/Desktop/another_demo/score_file/PGS002724_SNPs_GRCh37.tsv\n"
     ]
    }
   ],
   "source": [
    "# Extract SNP table (start at header \"rsID\")\n",
    "snp_lines = []\n",
    "header_found = False\n",
    "for line in tqdm(lines, desc = \":) going through each line to find start of score data\"):\n",
    "    if line.startswith(\"#\") == False:\n",
    "    # if line.startswith(\"rsID\"):\n",
    "        header_found = True\n",
    "        snp_lines.append(line.strip())  # include header\n",
    "        continue\n",
    "    if header_found:\n",
    "        if line.strip() and not line.startswith(\"#\"):\n",
    "            snp_lines.append(line.strip())\n",
    "\n",
    "# Save SNP table to TSV\n",
    "output_tsv = os.path.join(dir_name, f\"{pgs_id}_SNPs_{genome_build}.tsv\")\n",
    "with open(output_tsv, \"w\") as f:\n",
    "    f.write(\"\\n\".join(snp_lines) + \"\\n\")\n",
    "\n",
    "print(f\"Saved SNP table to {output_tsv}\")"
   ]
  },
  {
   "cell_type": "code",
   "execution_count": 8,
   "id": "41287117",
   "metadata": {},
   "outputs": [
    {
     "name": "stderr",
     "output_type": "stream",
     "text": [
      "100%|██████████| 1213574/1213574 [00:01<00:00, 956149.16it/s] \n",
      " 27%|██▋       | 6/22 [00:00<00:00, 52.07it/s]"
     ]
    },
    {
     "name": "stdout",
     "output_type": "stream",
     "text": [
      ":) Please note that chromosome 1 has 99,864 total GRCh37 human variants or SNPs for score file PGS002724\n",
      ":) Please note that chromosome 2 has 101,802 total GRCh37 human variants or SNPs for score file PGS002724\n",
      ":) Please note that chromosome 3 has 84,304 total GRCh37 human variants or SNPs for score file PGS002724\n",
      ":) Please note that chromosome 4 has 75,938 total GRCh37 human variants or SNPs for score file PGS002724\n",
      ":) Please note that chromosome 5 has 75,833 total GRCh37 human variants or SNPs for score file PGS002724\n",
      ":) Please note that chromosome 6 has 81,765 total GRCh37 human variants or SNPs for score file PGS002724\n",
      ":) Please note that chromosome 7 has 67,142 total GRCh37 human variants or SNPs for score file PGS002724\n",
      ":) Please note that chromosome 8 has 65,280 total GRCh37 human variants or SNPs for score file PGS002724\n",
      ":) Please note that chromosome 9 has 56,151 total GRCh37 human variants or SNPs for score file PGS002724\n",
      ":) Please note that chromosome 10 has 64,689 total GRCh37 human variants or SNPs for score file PGS002724\n",
      ":) Please note that chromosome 11 has 61,948 total GRCh37 human variants or SNPs for score file PGS002724\n",
      ":) Please note that chromosome 12 has 59,651 total GRCh37 human variants or SNPs for score file PGS002724\n",
      ":) Please note that chromosome 13 has 45,682 total GRCh37 human variants or SNPs for score file PGS002724\n"
     ]
    },
    {
     "name": "stderr",
     "output_type": "stream",
     "text": [
      "100%|██████████| 22/22 [00:00<00:00, 82.73it/s]"
     ]
    },
    {
     "name": "stdout",
     "output_type": "stream",
     "text": [
      ":) Please note that chromosome 14 has 39,885 total GRCh37 human variants or SNPs for score file PGS002724\n",
      ":) Please note that chromosome 15 has 36,648 total GRCh37 human variants or SNPs for score file PGS002724\n",
      ":) Please note that chromosome 16 has 37,409 total GRCh37 human variants or SNPs for score file PGS002724\n",
      ":) Please note that chromosome 17 has 33,578 total GRCh37 human variants or SNPs for score file PGS002724\n",
      ":) Please note that chromosome 18 has 35,800 total GRCh37 human variants or SNPs for score file PGS002724\n",
      ":) Please note that chromosome 19 has 23,682 total GRCh37 human variants or SNPs for score file PGS002724\n",
      ":) Please note that chromosome 20 has 31,532 total GRCh37 human variants or SNPs for score file PGS002724\n",
      ":) Please note that chromosome 21 has 17,179 total GRCh37 human variants or SNPs for score file PGS002724\n",
      ":) Please note that chromosome 22 has 17,812 total GRCh37 human variants or SNPs for score file PGS002724\n",
      "Created per-chromosome SNP coordinate files in /Users/sk37/Desktop/another_demo/score_file/per_chrom_snp_files_PGS002724\n"
     ]
    },
    {
     "name": "stderr",
     "output_type": "stream",
     "text": [
      "\n"
     ]
    }
   ],
   "source": [
    "# Create subdirectory for per-chromosome files\n",
    "subdir = os.path.join(dir_name, f\"per_chrom_snp_files_{pgs_id}\")\n",
    "subdir1 = os.path.join(subdir, \"ranges_group\")\n",
    "\n",
    "os.makedirs(subdir, exist_ok=True)\n",
    "os.makedirs(subdir1, exist_ok=True)\n",
    "\n",
    "# Ordered dicts for uniqueness while preserving input order\n",
    "chrom_ranges = defaultdict(dict)\n",
    "\n",
    "chrom_found_list = []\n",
    "\n",
    "# Collect SNPs\n",
    "for row in tqdm(snp_lines[1:]):  # skip header\n",
    "    chr_name, chr_pos, *_ = row.split(\"\\t\")\n",
    "    chr_pos = int(chr_pos)\n",
    "\n",
    "    # Format chromosome with leading zero if < 10\n",
    "    chr_fmt = f\"{int(chr_name):02d}\" if chr_name.isdigit() and int(chr_name) < 10 else chr_name\n",
    "\n",
    "    chrom_found_list.append(chr_name)\n",
    "\n",
    "    # Use dict keys for uniqueness, keeps insertion order\n",
    "    chrom_ranges[chr_name][f\"{chr_fmt}:{chr_pos}-{chr_pos}\"] = None\n",
    "\n",
    "# Write unique SNPs per chromosome, split into multiple files if needed\n",
    "for chr_name, snps_dict in tqdm(chrom_ranges.items()):\n",
    "    snps_list = list(snps_dict.keys())\n",
    "    total_snps = len(snps_list)\n",
    "    print(f\":) Please note that chromosome {chr_name} has {total_snps:,} total {genome_build} human variants or SNPs for score file {pgs_id}\")\n",
    "    if total_snps <= snp_threshold:\n",
    "        # Single file\n",
    "        chr_file_ranges = os.path.join(subdir1, f\"{pgs_id}_chr{chr_name}_{genome_build}_ranges.txt\")\n",
    "        with open(chr_file_ranges, \"w\") as cf:\n",
    "            for entry in snps_list:\n",
    "                cf.write(entry + \"\\n\")\n",
    "    else:\n",
    "        # Split into multiple files\n",
    "        num_parts = math.ceil(total_snps / snp_threshold)\n",
    "        for i in range(num_parts):\n",
    "            start_idx = i * snp_threshold\n",
    "            end_idx = min(start_idx + snp_threshold, total_snps)\n",
    "            part_snps = snps_list[start_idx:end_idx]\n",
    "            \n",
    "            chr_file_ranges = os.path.join(\n",
    "                subdir1, \n",
    "                f\"{pgs_id}_chr{chr_name}_{genome_build}_ranges_p{i+1}_of_{num_parts}.txt\"\n",
    "            )\n",
    "            with open(chr_file_ranges, \"w\") as cf:\n",
    "                for entry in part_snps:\n",
    "                    cf.write(entry + \"\\n\")\n",
    "\n",
    "print(f\"Created per-chromosome SNP coordinate files in {subdir}\")\n"
   ]
  },
  {
   "cell_type": "markdown",
   "id": "9d45cd62",
   "metadata": {},
   "source": [
    "Example command in terminal:\n",
    "\n",
    "dx upload /Users/sk37/Desktop/another_demo/score_file/per_chrom_snp_files_PGS002724/ranges_group/*.txt --destination IBD_Projects_Saniya:/another_saniya_demo/pgs_snps/ --brief"
   ]
  },
  {
   "cell_type": "code",
   "execution_count": 9,
   "id": "56abf533",
   "metadata": {},
   "outputs": [
    {
     "name": "stdout",
     "output_type": "stream",
     "text": [
      ":) Please run the following command on your terminal after logging into DNAnexus to upload this score model file to \n",
      " the following folder on DNAnexus portal for UK Biobank:  IBD_Projects_Saniya:/another_saniya_demo/pgs_scores/:\n",
      "\n",
      "dx upload /Users/sk37/Desktop/another_demo/score_file/PGS002724.txt --destination IBD_Projects_Saniya:/another_saniya_demo/pgs_scores/ --brief\n"
     ]
    }
   ],
   "source": [
    "print(\":) Please run the following command on your terminal after logging into DNAnexus to upload this score model file to \")\n",
    "print(f\" the following folder on DNAnexus portal for UK Biobank:  {dna_nexus_project_folder}pgs_scores/:\\n\")\n",
    "command1 = f\"dx upload {input_file} --destination {dna_nexus_project_folder}pgs_scores/ --brief\"\n",
    "print(command1)"
   ]
  },
  {
   "cell_type": "code",
   "execution_count": 10,
   "id": "d9bf40e6",
   "metadata": {},
   "outputs": [
    {
     "name": "stdout",
     "output_type": "stream",
     "text": [
      ":) Please run the following command on your terminal after logging into DNAnexus to upload these score files per chromosome to \n",
      " the following folder on DNAnexus portal for UK Biobank:  IBD_Projects_Saniya:/another_saniya_demo/pgs_snps/:\n",
      "\n",
      "dx upload /Users/sk37/Desktop/another_demo/score_file/per_chrom_snp_files_PGS002724/ranges_group/*.txt --destination IBD_Projects_Saniya:/another_saniya_demo/pgs_snps/ --brief\n"
     ]
    }
   ],
   "source": [
    "print(\":) Please run the following command on your terminal after logging into DNAnexus to upload these score files per chromosome to \")\n",
    "print(f\" the following folder on DNAnexus portal for UK Biobank:  {dna_nexus_project_folder}pgs_snps/:\\n\")\n",
    "command2 = f\"dx upload {subdir1}/*.txt --destination {dna_nexus_project_folder}pgs_snps/ --brief\"\n",
    "print(command2)"
   ]
  },
  {
   "cell_type": "markdown",
   "id": "27b90274",
   "metadata": {},
   "source": [
    "# Creating the Samplesheet for Step 6 (in advance)"
   ]
  },
  {
   "cell_type": "code",
   "execution_count": null,
   "id": "e302666f",
   "metadata": {},
   "outputs": [
    {
     "data": {
      "text/plain": [
       "'all_chromosomes_SNPs_merged_PGS002724_GRCh37'"
      ]
     },
     "execution_count": 23,
     "metadata": {},
     "output_type": "execute_result"
    }
   ],
   "source": [
    "out_file = parent_file + \"/samplesheet/\"\n",
    "sampleset = \"ukbiobank\"\n",
    "details = f\"all_chromosomes_SNPs_merged_{pgs_id}_{genome_build}\"\n",
    "outname = f\"pgsc_calc_{pgs_id}_{genome_build}_samplesheet.csv\"\n",
    "details"
   ]
  },
  {
   "cell_type": "code",
   "execution_count": 24,
   "id": "a0f46cc1",
   "metadata": {},
   "outputs": [
    {
     "data": {
      "text/html": [
       "<div>\n",
       "<style scoped>\n",
       "    .dataframe tbody tr th:only-of-type {\n",
       "        vertical-align: middle;\n",
       "    }\n",
       "\n",
       "    .dataframe tbody tr th {\n",
       "        vertical-align: top;\n",
       "    }\n",
       "\n",
       "    .dataframe thead th {\n",
       "        text-align: right;\n",
       "    }\n",
       "</style>\n",
       "<table border=\"1\" class=\"dataframe\">\n",
       "  <thead>\n",
       "    <tr style=\"text-align: right;\">\n",
       "      <th></th>\n",
       "      <th>sampleset</th>\n",
       "      <th>path_prefix</th>\n",
       "      <th>chrom</th>\n",
       "      <th>format</th>\n",
       "    </tr>\n",
       "  </thead>\n",
       "  <tbody>\n",
       "    <tr>\n",
       "      <th>0</th>\n",
       "      <td>ukbiobank</td>\n",
       "      <td>all_chromosomes_SNPs_merged_PGS002724_GRCh37</td>\n",
       "      <td></td>\n",
       "      <td>bfile</td>\n",
       "    </tr>\n",
       "  </tbody>\n",
       "</table>\n",
       "</div>"
      ],
      "text/plain": [
       "   sampleset                                   path_prefix chrom format\n",
       "0  ukbiobank  all_chromosomes_SNPs_merged_PGS002724_GRCh37        bfile"
      ]
     },
     "execution_count": 24,
     "metadata": {},
     "output_type": "execute_result"
    }
   ],
   "source": [
    "list_info = [sampleset, details, \"\", \"bfile\"]\n",
    "list_df = pd.DataFrame(list_info).T\n",
    "list_df.columns = [\"sampleset\", \"path_prefix\", \"chrom\", \"format\"]\n",
    "list_df"
   ]
  },
  {
   "cell_type": "code",
   "execution_count": 25,
   "id": "b3f943ee",
   "metadata": {},
   "outputs": [
    {
     "name": "stdout",
     "output_type": "stream",
     "text": [
      "/Users/sk37/Desktop/another_demo/samplesheet/pgsc_calc_PGS002724_GRCh37_samplesheet.csv\n"
     ]
    },
    {
     "data": {
      "text/html": [
       "<div>\n",
       "<style scoped>\n",
       "    .dataframe tbody tr th:only-of-type {\n",
       "        vertical-align: middle;\n",
       "    }\n",
       "\n",
       "    .dataframe tbody tr th {\n",
       "        vertical-align: top;\n",
       "    }\n",
       "\n",
       "    .dataframe thead th {\n",
       "        text-align: right;\n",
       "    }\n",
       "</style>\n",
       "<table border=\"1\" class=\"dataframe\">\n",
       "  <thead>\n",
       "    <tr style=\"text-align: right;\">\n",
       "      <th></th>\n",
       "      <th>sampleset</th>\n",
       "      <th>path_prefix</th>\n",
       "      <th>chrom</th>\n",
       "      <th>format</th>\n",
       "    </tr>\n",
       "  </thead>\n",
       "  <tbody>\n",
       "    <tr>\n",
       "      <th>0</th>\n",
       "      <td>ukbiobank</td>\n",
       "      <td>all_chromosomes_SNPs_merged_PGS002724_GRCh37</td>\n",
       "      <td></td>\n",
       "      <td>bfile</td>\n",
       "    </tr>\n",
       "  </tbody>\n",
       "</table>\n",
       "</div>"
      ],
      "text/plain": [
       "   sampleset                                   path_prefix chrom format\n",
       "0  ukbiobank  all_chromosomes_SNPs_merged_PGS002724_GRCh37        bfile"
      ]
     },
     "execution_count": 25,
     "metadata": {},
     "output_type": "execute_result"
    }
   ],
   "source": [
    "out_fp = out_file + outname\n",
    "print(out_fp)\n",
    "list_df.to_csv(out_fp, index = False)\n",
    "list_df"
   ]
  },
  {
   "cell_type": "code",
   "execution_count": 28,
   "id": "506dbd64",
   "metadata": {},
   "outputs": [
    {
     "name": "stdout",
     "output_type": "stream",
     "text": [
      ":) Please run the following command on your terminal after logging into DNAnexus to upload the samplesheet for PGSC Calculator to \n",
      " the following folder on DNAnexus portal for UK Biobank:  IBD_Projects_Saniya:/another_saniya_demo/:\n",
      "\n",
      "dx upload /Users/sk37/Desktop/another_demo/samplesheet/pgsc_calc_PGS002724_GRCh37_samplesheet.csv --destination IBD_Projects_Saniya:/another_saniya_demo/ --brief\n"
     ]
    }
   ],
   "source": [
    "print(\":) Please run the following command on your terminal after logging into DNAnexus to upload the samplesheet for PGSC Calculator to \")\n",
    "print(f\" the following folder on DNAnexus portal for UK Biobank:  {dna_nexus_project_folder}:\\n\")\n",
    "command3 = f\"dx upload {out_fp} --destination {dna_nexus_project_folder} --brief\"\n",
    "print(command3)"
   ]
  }
 ],
 "metadata": {
  "kernelspec": {
   "display_name": "Python 3",
   "language": "python",
   "name": "python3"
  },
  "language_info": {
   "codemirror_mode": {
    "name": "ipython",
    "version": 3
   },
   "file_extension": ".py",
   "mimetype": "text/x-python",
   "name": "python",
   "nbconvert_exporter": "python",
   "pygments_lexer": "ipython3",
   "version": "3.9.6"
  }
 },
 "nbformat": 4,
 "nbformat_minor": 5
}
