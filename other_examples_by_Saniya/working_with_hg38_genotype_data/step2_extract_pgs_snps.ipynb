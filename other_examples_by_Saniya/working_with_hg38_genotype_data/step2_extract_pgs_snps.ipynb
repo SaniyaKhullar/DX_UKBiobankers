{
 "cells": [
  {
   "cell_type": "markdown",
   "id": "a73d2ee0",
   "metadata": {},
   "source": [
    "# Step 2:\n",
    "## Extracting SNPs (Variants) from PGS Catalog Score Files\n",
    "### By: Saniya Khullar :)\n",
    "\n",
    "Please verify that all of the score files have the same reference build (e.g. Hg19/GRCh37 or Hg38/GRCh38)\n",
    "This code is for hg38 (human reference genome: GRCh38)."
   ]
  },
  {
   "cell_type": "code",
   "execution_count": 1,
   "id": "11db97d9",
   "metadata": {},
   "outputs": [
    {
     "name": "stderr",
     "output_type": "stream",
     "text": [
      "/Users/sk37/Library/Python/3.9/lib/python/site-packages/tqdm/auto.py:21: TqdmWarning: IProgress not found. Please update jupyter and ipywidgets. See https://ipywidgets.readthedocs.io/en/stable/user_install.html\n",
      "  from .autonotebook import tqdm as notebook_tqdm\n"
     ]
    }
   ],
   "source": [
    "import os\n",
    "from tqdm.auto import tqdm\n",
    "import pandas as pd\n",
    "import numpy as np\n",
    "from collections import defaultdict\n",
    "import math\n"
   ]
  },
  {
   "cell_type": "code",
   "execution_count": 2,
   "id": "775ba5d6",
   "metadata": {},
   "outputs": [],
   "source": [
    "parent_file = \"/Users/sk37/Desktop/hg38_demo/\"\n",
    "dna_nexus_project_folder = \"IBD_Projects_Saniya:/hg38_saniya_demo/\" # the main folder we are working with in dnanexus\n",
    "hg38_genotype_imputation_type = \"topmed\"\n",
    "snp_threshold = 8000  # max SNPs per file\n",
    "scores_fp = parent_file + \"score_file/\""
   ]
  },
  {
   "cell_type": "code",
   "execution_count": 3,
   "id": "ed3fcde0",
   "metadata": {},
   "outputs": [
    {
     "data": {
      "text/plain": [
       "['PGS005072.txt']"
      ]
     },
     "execution_count": 3,
     "metadata": {},
     "output_type": "execute_result"
    }
   ],
   "source": [
    "scores_list = os.listdir(scores_fp)\n",
    "score_files_list = []\n",
    "for score_file in scores_list:\n",
    "    if \".txt\" in score_file:\n",
    "        score_files_list.append(score_file)\n",
    "score_files_list"
   ]
  },
  {
   "cell_type": "code",
   "execution_count": 5,
   "id": "5bb39385",
   "metadata": {},
   "outputs": [],
   "source": [
    "# len(os.listdir(\"/Users/sk37/Desktop/newest_demo/score_file/per_chrom_snp_files_GRCh37_combined_PGS005072/ranges_group/\"))"
   ]
  },
  {
   "cell_type": "code",
   "execution_count": 6,
   "id": "b0e438d1",
   "metadata": {},
   "outputs": [
    {
     "name": "stdout",
     "output_type": "stream",
     "text": [
      "/Users/sk37/Desktop/hg38_demo/score_file\n",
      ":) Please note: pgs_id = PGS005072 and genome_build = GRCh38\n"
     ]
    },
    {
     "name": "stderr",
     "output_type": "stream",
     "text": [
      ":) going through each line to find start of score data: 100%|██████████| 1273906/1273906 [00:00<00:00, 3305461.15it/s]\n"
     ]
    },
    {
     "name": "stdout",
     "output_type": "stream",
     "text": [
      "Saved SNP table to /Users/sk37/Desktop/hg38_demo/score_file/PGS005072_SNPs_GRCh38.tsv\n"
     ]
    }
   ],
   "source": [
    "for score_name in score_files_list:\n",
    "    input_file = scores_fp + score_name\n",
    "    dir_name = os.path.dirname(os.path.abspath(input_file))\n",
    "    print(dir_name)\n",
    "\n",
    "    # Read file\n",
    "    with open(input_file, \"r\") as f:\n",
    "        lines = f.readlines()\n",
    "\n",
    "    # Extract pgs_id and genome_build from header\n",
    "    pgs_id = None\n",
    "    genome_build = None\n",
    "    for line in lines:\n",
    "        if line.startswith(\"#pgs_id=\"):\n",
    "            pgs_id = line.strip().split(\"=\")[1]\n",
    "        elif line.startswith(\"#genome_build=\"):\n",
    "            genome_build = line.strip().split(\"=\")[1]\n",
    "\n",
    "    if not pgs_id or not genome_build:\n",
    "        raise ValueError(\"pgs_id or genome_build missing in file header.\")\n",
    "    print(f\":) Please note: pgs_id = {pgs_id} and genome_build = {genome_build}\")\n",
    "\n",
    "    # Extract SNP table (start at header \"rsID\")\n",
    "    snp_lines = []\n",
    "    header_found = False\n",
    "    for line in tqdm(lines, desc = \":) going through each line to find start of score data\"):\n",
    "        if line.startswith(\"#\") == False:\n",
    "        # if line.startswith(\"rsID\"):\n",
    "            header_found = True\n",
    "            snp_lines.append(line.strip())  # include header\n",
    "            continue\n",
    "        if header_found:\n",
    "            if line.strip() and not line.startswith(\"#\"):\n",
    "                snp_lines.append(line.strip())\n",
    "\n",
    "    # Save SNP table to TSV\n",
    "    output_tsv = os.path.join(dir_name, f\"{pgs_id}_SNPs_{genome_build}.tsv\")\n",
    "    with open(output_tsv, \"w\") as f:\n",
    "        f.write(\"\\n\".join(snp_lines) + \"\\n\")\n",
    "\n",
    "    print(f\"Saved SNP table to {output_tsv}\")"
   ]
  },
  {
   "cell_type": "code",
   "execution_count": 7,
   "id": "8fc9e32f",
   "metadata": {},
   "outputs": [
    {
     "data": {
      "text/plain": [
       "['PGS005072_SNPs_GRCh38.tsv']"
      ]
     },
     "execution_count": 7,
     "metadata": {},
     "output_type": "execute_result"
    }
   ],
   "source": [
    "scores_list = os.listdir(scores_fp)\n",
    "score_files_list = []\n",
    "for score_file in scores_list:\n",
    "    if \".tsv\" in score_file:\n",
    "        score_files_list.append(score_file)\n",
    "score_files_list"
   ]
  },
  {
   "cell_type": "code",
   "execution_count": 8,
   "id": "6c71a4e6",
   "metadata": {},
   "outputs": [
    {
     "name": "stderr",
     "output_type": "stream",
     "text": [
      "100%|██████████| 1/1 [00:00<00:00,  1.82it/s]\n"
     ]
    },
    {
     "data": {
      "text/html": [
       "<div>\n",
       "<style scoped>\n",
       "    .dataframe tbody tr th:only-of-type {\n",
       "        vertical-align: middle;\n",
       "    }\n",
       "\n",
       "    .dataframe tbody tr th {\n",
       "        vertical-align: top;\n",
       "    }\n",
       "\n",
       "    .dataframe thead th {\n",
       "        text-align: right;\n",
       "    }\n",
       "</style>\n",
       "<table border=\"1\" class=\"dataframe\">\n",
       "  <thead>\n",
       "    <tr style=\"text-align: right;\">\n",
       "      <th></th>\n",
       "      <th>rsID</th>\n",
       "      <th>chr_name</th>\n",
       "      <th>chr_position</th>\n",
       "      <th>effect_allele</th>\n",
       "      <th>other_allele</th>\n",
       "      <th>effect_weight</th>\n",
       "    </tr>\n",
       "  </thead>\n",
       "  <tbody>\n",
       "    <tr>\n",
       "      <th>0</th>\n",
       "      <td>rs3131972</td>\n",
       "      <td>1</td>\n",
       "      <td>817341</td>\n",
       "      <td>G</td>\n",
       "      <td>A</td>\n",
       "      <td>0.000021</td>\n",
       "    </tr>\n",
       "    <tr>\n",
       "      <th>1</th>\n",
       "      <td>rs3131969</td>\n",
       "      <td>1</td>\n",
       "      <td>818802</td>\n",
       "      <td>G</td>\n",
       "      <td>A</td>\n",
       "      <td>0.000028</td>\n",
       "    </tr>\n",
       "    <tr>\n",
       "      <th>2</th>\n",
       "      <td>rs1048488</td>\n",
       "      <td>1</td>\n",
       "      <td>825532</td>\n",
       "      <td>T</td>\n",
       "      <td>C</td>\n",
       "      <td>0.000008</td>\n",
       "    </tr>\n",
       "    <tr>\n",
       "      <th>3</th>\n",
       "      <td>rs12562034</td>\n",
       "      <td>1</td>\n",
       "      <td>833068</td>\n",
       "      <td>A</td>\n",
       "      <td>G</td>\n",
       "      <td>0.000004</td>\n",
       "    </tr>\n",
       "    <tr>\n",
       "      <th>4</th>\n",
       "      <td>rs4040617</td>\n",
       "      <td>1</td>\n",
       "      <td>843942</td>\n",
       "      <td>G</td>\n",
       "      <td>A</td>\n",
       "      <td>-0.000014</td>\n",
       "    </tr>\n",
       "    <tr>\n",
       "      <th>...</th>\n",
       "      <td>...</td>\n",
       "      <td>...</td>\n",
       "      <td>...</td>\n",
       "      <td>...</td>\n",
       "      <td>...</td>\n",
       "      <td>...</td>\n",
       "    </tr>\n",
       "    <tr>\n",
       "      <th>1273886</th>\n",
       "      <td>rs2240171</td>\n",
       "      <td>9</td>\n",
       "      <td>133361429</td>\n",
       "      <td>G</td>\n",
       "      <td>A</td>\n",
       "      <td>-0.000064</td>\n",
       "    </tr>\n",
       "    <tr>\n",
       "      <th>1273887</th>\n",
       "      <td>rs11103132</td>\n",
       "      <td>9</td>\n",
       "      <td>135684056</td>\n",
       "      <td>C</td>\n",
       "      <td>A</td>\n",
       "      <td>-0.000044</td>\n",
       "    </tr>\n",
       "    <tr>\n",
       "      <th>1273888</th>\n",
       "      <td>rs17040507</td>\n",
       "      <td>9</td>\n",
       "      <td>135820929</td>\n",
       "      <td>A</td>\n",
       "      <td>G</td>\n",
       "      <td>0.000022</td>\n",
       "    </tr>\n",
       "    <tr>\n",
       "      <th>1273889</th>\n",
       "      <td>rs2275159</td>\n",
       "      <td>9</td>\n",
       "      <td>136726874</td>\n",
       "      <td>A</td>\n",
       "      <td>G</td>\n",
       "      <td>0.000023</td>\n",
       "    </tr>\n",
       "    <tr>\n",
       "      <th>1273890</th>\n",
       "      <td>rs36121634</td>\n",
       "      <td>9</td>\n",
       "      <td>136977046</td>\n",
       "      <td>T</td>\n",
       "      <td>C</td>\n",
       "      <td>-0.000029</td>\n",
       "    </tr>\n",
       "  </tbody>\n",
       "</table>\n",
       "<p>1273891 rows × 6 columns</p>\n",
       "</div>"
      ],
      "text/plain": [
       "               rsID  chr_name  chr_position effect_allele other_allele  \\\n",
       "0         rs3131972         1        817341             G            A   \n",
       "1         rs3131969         1        818802             G            A   \n",
       "2         rs1048488         1        825532             T            C   \n",
       "3        rs12562034         1        833068             A            G   \n",
       "4         rs4040617         1        843942             G            A   \n",
       "...             ...       ...           ...           ...          ...   \n",
       "1273886   rs2240171         9     133361429             G            A   \n",
       "1273887  rs11103132         9     135684056             C            A   \n",
       "1273888  rs17040507         9     135820929             A            G   \n",
       "1273889   rs2275159         9     136726874             A            G   \n",
       "1273890  rs36121634         9     136977046             T            C   \n",
       "\n",
       "         effect_weight  \n",
       "0             0.000021  \n",
       "1             0.000028  \n",
       "2             0.000008  \n",
       "3             0.000004  \n",
       "4            -0.000014  \n",
       "...                ...  \n",
       "1273886      -0.000064  \n",
       "1273887      -0.000044  \n",
       "1273888       0.000022  \n",
       "1273889       0.000023  \n",
       "1273890      -0.000029  \n",
       "\n",
       "[1273891 rows x 6 columns]"
      ]
     },
     "execution_count": 8,
     "metadata": {},
     "output_type": "execute_result"
    }
   ],
   "source": [
    "df_list = []\n",
    "for score_name in tqdm(score_files_list):\n",
    "    input_file = scores_fp + score_name\n",
    "    df = pd.read_csv(input_file, sep = \"\\t\")\n",
    "    df_list.append(df)\n",
    "combined = pd.concat(df_list, axis=0, join='outer', ignore_index=True)\n",
    "combined\n"
   ]
  },
  {
   "cell_type": "code",
   "execution_count": 9,
   "id": "b3af7400",
   "metadata": {},
   "outputs": [
    {
     "data": {
      "text/plain": [
       "'PGS005072'"
      ]
     },
     "execution_count": 9,
     "metadata": {},
     "output_type": "execute_result"
    }
   ],
   "source": [
    "scores_list_names = '_'.join([i.split(\"_\")[0] for i in score_files_list])\n",
    "scores_list_names"
   ]
  },
  {
   "cell_type": "code",
   "execution_count": 10,
   "id": "ceb0adc2",
   "metadata": {},
   "outputs": [
    {
     "name": "stdout",
     "output_type": "stream",
     "text": [
      ":) Please note that there are 1,273,891 unique GRCh38 variants combined across these 1 score files: PGS005072\n"
     ]
    },
    {
     "data": {
      "text/html": [
       "<div>\n",
       "<style scoped>\n",
       "    .dataframe tbody tr th:only-of-type {\n",
       "        vertical-align: middle;\n",
       "    }\n",
       "\n",
       "    .dataframe tbody tr th {\n",
       "        vertical-align: top;\n",
       "    }\n",
       "\n",
       "    .dataframe thead th {\n",
       "        text-align: right;\n",
       "    }\n",
       "</style>\n",
       "<table border=\"1\" class=\"dataframe\">\n",
       "  <thead>\n",
       "    <tr style=\"text-align: right;\">\n",
       "      <th></th>\n",
       "      <th>chr_name</th>\n",
       "      <th>chr_position</th>\n",
       "    </tr>\n",
       "  </thead>\n",
       "  <tbody>\n",
       "    <tr>\n",
       "      <th>0</th>\n",
       "      <td>1</td>\n",
       "      <td>817341</td>\n",
       "    </tr>\n",
       "    <tr>\n",
       "      <th>1</th>\n",
       "      <td>1</td>\n",
       "      <td>818802</td>\n",
       "    </tr>\n",
       "    <tr>\n",
       "      <th>2</th>\n",
       "      <td>1</td>\n",
       "      <td>825532</td>\n",
       "    </tr>\n",
       "    <tr>\n",
       "      <th>3</th>\n",
       "      <td>1</td>\n",
       "      <td>833068</td>\n",
       "    </tr>\n",
       "    <tr>\n",
       "      <th>4</th>\n",
       "      <td>1</td>\n",
       "      <td>843942</td>\n",
       "    </tr>\n",
       "    <tr>\n",
       "      <th>...</th>\n",
       "      <td>...</td>\n",
       "      <td>...</td>\n",
       "    </tr>\n",
       "    <tr>\n",
       "      <th>1273886</th>\n",
       "      <td>9</td>\n",
       "      <td>133361429</td>\n",
       "    </tr>\n",
       "    <tr>\n",
       "      <th>1273887</th>\n",
       "      <td>9</td>\n",
       "      <td>135684056</td>\n",
       "    </tr>\n",
       "    <tr>\n",
       "      <th>1273888</th>\n",
       "      <td>9</td>\n",
       "      <td>135820929</td>\n",
       "    </tr>\n",
       "    <tr>\n",
       "      <th>1273889</th>\n",
       "      <td>9</td>\n",
       "      <td>136726874</td>\n",
       "    </tr>\n",
       "    <tr>\n",
       "      <th>1273890</th>\n",
       "      <td>9</td>\n",
       "      <td>136977046</td>\n",
       "    </tr>\n",
       "  </tbody>\n",
       "</table>\n",
       "<p>1273891 rows × 2 columns</p>\n",
       "</div>"
      ],
      "text/plain": [
       "         chr_name  chr_position\n",
       "0               1        817341\n",
       "1               1        818802\n",
       "2               1        825532\n",
       "3               1        833068\n",
       "4               1        843942\n",
       "...           ...           ...\n",
       "1273886         9     133361429\n",
       "1273887         9     135684056\n",
       "1273888         9     135820929\n",
       "1273889         9     136726874\n",
       "1273890         9     136977046\n",
       "\n",
       "[1273891 rows x 2 columns]"
      ]
     },
     "execution_count": 10,
     "metadata": {},
     "output_type": "execute_result"
    }
   ],
   "source": [
    "total_unique_variants_df = combined[[\"chr_name\", \"chr_position\"]].drop_duplicates()\n",
    "print(f\":) Please note that there are {total_unique_variants_df.shape[0]:,} unique {genome_build} variants combined across these {len(score_files_list)} score files: {scores_list_names}\")\n",
    "total_unique_variants_df"
   ]
  },
  {
   "cell_type": "code",
   "execution_count": 11,
   "id": "3256a0e7",
   "metadata": {},
   "outputs": [
    {
     "data": {
      "text/html": [
       "<div>\n",
       "<style scoped>\n",
       "    .dataframe tbody tr th:only-of-type {\n",
       "        vertical-align: middle;\n",
       "    }\n",
       "\n",
       "    .dataframe tbody tr th {\n",
       "        vertical-align: top;\n",
       "    }\n",
       "\n",
       "    .dataframe thead th {\n",
       "        text-align: right;\n",
       "    }\n",
       "</style>\n",
       "<table border=\"1\" class=\"dataframe\">\n",
       "  <thead>\n",
       "    <tr style=\"text-align: right;\">\n",
       "      <th></th>\n",
       "      <th>rsID</th>\n",
       "      <th>chr_name</th>\n",
       "      <th>chr_position</th>\n",
       "      <th>effect_allele</th>\n",
       "      <th>other_allele</th>\n",
       "      <th>effect_weight</th>\n",
       "    </tr>\n",
       "  </thead>\n",
       "  <tbody>\n",
       "    <tr>\n",
       "      <th>0</th>\n",
       "      <td>rs3131972</td>\n",
       "      <td>1</td>\n",
       "      <td>817341</td>\n",
       "      <td>G</td>\n",
       "      <td>A</td>\n",
       "      <td>0.000021</td>\n",
       "    </tr>\n",
       "    <tr>\n",
       "      <th>1</th>\n",
       "      <td>rs3131969</td>\n",
       "      <td>1</td>\n",
       "      <td>818802</td>\n",
       "      <td>G</td>\n",
       "      <td>A</td>\n",
       "      <td>0.000028</td>\n",
       "    </tr>\n",
       "    <tr>\n",
       "      <th>2</th>\n",
       "      <td>rs1048488</td>\n",
       "      <td>1</td>\n",
       "      <td>825532</td>\n",
       "      <td>T</td>\n",
       "      <td>C</td>\n",
       "      <td>0.000008</td>\n",
       "    </tr>\n",
       "    <tr>\n",
       "      <th>3</th>\n",
       "      <td>rs12562034</td>\n",
       "      <td>1</td>\n",
       "      <td>833068</td>\n",
       "      <td>A</td>\n",
       "      <td>G</td>\n",
       "      <td>0.000004</td>\n",
       "    </tr>\n",
       "    <tr>\n",
       "      <th>4</th>\n",
       "      <td>rs4040617</td>\n",
       "      <td>1</td>\n",
       "      <td>843942</td>\n",
       "      <td>G</td>\n",
       "      <td>A</td>\n",
       "      <td>-0.000014</td>\n",
       "    </tr>\n",
       "    <tr>\n",
       "      <th>...</th>\n",
       "      <td>...</td>\n",
       "      <td>...</td>\n",
       "      <td>...</td>\n",
       "      <td>...</td>\n",
       "      <td>...</td>\n",
       "      <td>...</td>\n",
       "    </tr>\n",
       "    <tr>\n",
       "      <th>1273886</th>\n",
       "      <td>rs2240171</td>\n",
       "      <td>9</td>\n",
       "      <td>133361429</td>\n",
       "      <td>G</td>\n",
       "      <td>A</td>\n",
       "      <td>-0.000064</td>\n",
       "    </tr>\n",
       "    <tr>\n",
       "      <th>1273887</th>\n",
       "      <td>rs11103132</td>\n",
       "      <td>9</td>\n",
       "      <td>135684056</td>\n",
       "      <td>C</td>\n",
       "      <td>A</td>\n",
       "      <td>-0.000044</td>\n",
       "    </tr>\n",
       "    <tr>\n",
       "      <th>1273888</th>\n",
       "      <td>rs17040507</td>\n",
       "      <td>9</td>\n",
       "      <td>135820929</td>\n",
       "      <td>A</td>\n",
       "      <td>G</td>\n",
       "      <td>0.000022</td>\n",
       "    </tr>\n",
       "    <tr>\n",
       "      <th>1273889</th>\n",
       "      <td>rs2275159</td>\n",
       "      <td>9</td>\n",
       "      <td>136726874</td>\n",
       "      <td>A</td>\n",
       "      <td>G</td>\n",
       "      <td>0.000023</td>\n",
       "    </tr>\n",
       "    <tr>\n",
       "      <th>1273890</th>\n",
       "      <td>rs36121634</td>\n",
       "      <td>9</td>\n",
       "      <td>136977046</td>\n",
       "      <td>T</td>\n",
       "      <td>C</td>\n",
       "      <td>-0.000029</td>\n",
       "    </tr>\n",
       "  </tbody>\n",
       "</table>\n",
       "<p>1273891 rows × 6 columns</p>\n",
       "</div>"
      ],
      "text/plain": [
       "               rsID  chr_name  chr_position effect_allele other_allele  \\\n",
       "0         rs3131972         1        817341             G            A   \n",
       "1         rs3131969         1        818802             G            A   \n",
       "2         rs1048488         1        825532             T            C   \n",
       "3        rs12562034         1        833068             A            G   \n",
       "4         rs4040617         1        843942             G            A   \n",
       "...             ...       ...           ...           ...          ...   \n",
       "1273886   rs2240171         9     133361429             G            A   \n",
       "1273887  rs11103132         9     135684056             C            A   \n",
       "1273888  rs17040507         9     135820929             A            G   \n",
       "1273889   rs2275159         9     136726874             A            G   \n",
       "1273890  rs36121634         9     136977046             T            C   \n",
       "\n",
       "         effect_weight  \n",
       "0             0.000021  \n",
       "1             0.000028  \n",
       "2             0.000008  \n",
       "3             0.000004  \n",
       "4            -0.000014  \n",
       "...                ...  \n",
       "1273886      -0.000064  \n",
       "1273887      -0.000044  \n",
       "1273888       0.000022  \n",
       "1273889       0.000023  \n",
       "1273890      -0.000029  \n",
       "\n",
       "[1273891 rows x 6 columns]"
      ]
     },
     "execution_count": 11,
     "metadata": {},
     "output_type": "execute_result"
    }
   ],
   "source": [
    "combined"
   ]
  },
  {
   "cell_type": "code",
   "execution_count": 12,
   "id": "4bab05a0",
   "metadata": {},
   "outputs": [
    {
     "name": "stderr",
     "output_type": "stream",
     "text": [
      "100%|██████████| 1273891/1273891 [00:01<00:00, 651857.41it/s]\n"
     ]
    }
   ],
   "source": [
    "# Create subdirectory for per-chromosome files\n",
    "subdir = os.path.join(dir_name, f\"per_chrom_snp_files_{genome_build}_combined_{scores_list_names}\")\n",
    "subdir1 = os.path.join(subdir, \"ranges_group\")\n",
    "\n",
    "os.makedirs(subdir, exist_ok=True)\n",
    "os.makedirs(subdir1, exist_ok=True)\n",
    "\n",
    "# Ordered dicts for uniqueness while preserving input order\n",
    "chrom_ranges = defaultdict(dict)\n",
    "\n",
    "chrom_found_list = []\n",
    "\n",
    "# Collect SNPs\n",
    "# Parse header dynamically\n",
    "header = combined.columns.tolist()\n",
    "chr_name_idx = header.index(\"chr_name\")\n",
    "chr_pos_idx = header.index(\"chr_position\")\n",
    "\n",
    "snp_lines_to_use = combined.values.tolist()\n",
    "# Collect SNPs\n",
    "for row in tqdm(snp_lines_to_use):  # skip header\n",
    "    cols = [str(i) for i in row]#.strip().split(\"\\t\")\n",
    "    chr_name = cols[chr_name_idx]\n",
    "    chr_pos = int(cols[chr_pos_idx])\n",
    "\n",
    "    # Format chromosome with leading zero if < 10\n",
    "    # chr_fmt = f\"{int(chr_name):02d}\" if chr_name.isdigit() and int(chr_name) < 10 else chr_name\n",
    "    chr_fmt = str(chr_name)\n",
    "    chrom_found_list.append(chr_name)\n",
    "\n",
    "    # Use dict keys for uniqueness, keeps insertion order\n",
    "    chrom_ranges[chr_name][f\"chr{chr_fmt}:{chr_pos}-{chr_pos}\"] = None\n"
   ]
  },
  {
   "cell_type": "code",
   "execution_count": 13,
   "id": "f810322e",
   "metadata": {},
   "outputs": [
    {
     "name": "stderr",
     "output_type": "stream",
     "text": [
      "  9%|▉         | 2/22 [00:00<00:01, 13.27it/s]"
     ]
    },
    {
     "name": "stdout",
     "output_type": "stream",
     "text": [
      ":) Please note that chromosome 1 has 106,728 total GRCh38 human variants or SNPs for score file PGS005072\n",
      ":) Please note that chromosome 10 has 67,807 total GRCh38 human variants or SNPs for score file PGS005072\n",
      ":) Please note that chromosome 11 has 65,243 total GRCh38 human variants or SNPs for score file PGS005072\n",
      ":) Please note that chromosome 12 has 63,528 total GRCh38 human variants or SNPs for score file PGS005072\n",
      ":) Please note that chromosome 13 has 48,092 total GRCh38 human variants or SNPs for score file PGS005072\n",
      ":) Please note that chromosome 14 has 41,823 total GRCh38 human variants or SNPs for score file PGS005072\n",
      ":) Please note that chromosome 15 has 38,595 total GRCh38 human variants or SNPs for score file PGS005072\n"
     ]
    },
    {
     "name": "stderr",
     "output_type": "stream",
     "text": [
      " 77%|███████▋  | 17/22 [00:00<00:00, 52.98it/s]"
     ]
    },
    {
     "name": "stdout",
     "output_type": "stream",
     "text": [
      ":) Please note that chromosome 16 has 39,881 total GRCh38 human variants or SNPs for score file PGS005072\n",
      ":) Please note that chromosome 17 has 34,929 total GRCh38 human variants or SNPs for score file PGS005072\n",
      ":) Please note that chromosome 18 has 38,089 total GRCh38 human variants or SNPs for score file PGS005072\n",
      ":) Please note that chromosome 19 has 23,806 total GRCh38 human variants or SNPs for score file PGS005072\n",
      ":) Please note that chromosome 2 has 107,363 total GRCh38 human variants or SNPs for score file PGS005072\n",
      ":) Please note that chromosome 20 has 33,315 total GRCh38 human variants or SNPs for score file PGS005072\n",
      ":) Please note that chromosome 21 has 17,730 total GRCh38 human variants or SNPs for score file PGS005072\n",
      ":) Please note that chromosome 22 has 18,311 total GRCh38 human variants or SNPs for score file PGS005072\n",
      ":) Please note that chromosome 3 has 89,051 total GRCh38 human variants or SNPs for score file PGS005072\n",
      ":) Please note that chromosome 4 has 79,840 total GRCh38 human variants or SNPs for score file PGS005072\n",
      ":) Please note that chromosome 5 has 79,639 total GRCh38 human variants or SNPs for score file PGS005072\n",
      ":) Please note that chromosome 6 has 84,221 total GRCh38 human variants or SNPs for score file PGS005072\n",
      ":) Please note that chromosome 7 has 69,178 total GRCh38 human variants or SNPs for score file PGS005072\n",
      ":) Please note that chromosome 8 has 68,645 total GRCh38 human variants or SNPs for score file PGS005072\n"
     ]
    },
    {
     "name": "stderr",
     "output_type": "stream",
     "text": [
      "100%|██████████| 22/22 [00:00<00:00, 45.93it/s]"
     ]
    },
    {
     "name": "stdout",
     "output_type": "stream",
     "text": [
      ":) Please note that chromosome 9 has 58,077 total GRCh38 human variants or SNPs for score file PGS005072\n",
      "Created per-chromosome SNP coordinate files in /Users/sk37/Desktop/hg38_demo/score_file/per_chrom_snp_files_GRCh38_combined_PGS005072\n"
     ]
    },
    {
     "name": "stderr",
     "output_type": "stream",
     "text": [
      "\n"
     ]
    }
   ],
   "source": [
    "# Write unique SNPs per chromosome, split into multiple files if needed\n",
    "for chr_name, snps_dict in tqdm(chrom_ranges.items()):\n",
    "    snps_list = list(snps_dict.keys())\n",
    "    total_snps = len(snps_list)\n",
    "    print(f\":) Please note that chromosome {chr_name} has {total_snps:,} total {genome_build} human variants or SNPs for score file {pgs_id}\")\n",
    "    if total_snps <= snp_threshold:\n",
    "        # Single file\n",
    "        chr_file_ranges = os.path.join(subdir1, f\"{pgs_id}_chr{chr_name}_{genome_build}_ranges.txt\")\n",
    "        with open(chr_file_ranges, \"w\") as cf:\n",
    "            for entry in snps_list:\n",
    "                cf.write(entry + \"\\n\")\n",
    "    else:\n",
    "        # Split into multiple files\n",
    "        num_parts = math.ceil(total_snps / snp_threshold)\n",
    "        for i in range(num_parts):\n",
    "            start_idx = i * snp_threshold\n",
    "            end_idx = min(start_idx + snp_threshold, total_snps)\n",
    "            part_snps = snps_list[start_idx:end_idx]\n",
    "            \n",
    "            chr_file_ranges = os.path.join(\n",
    "                subdir1, \n",
    "                f\"{scores_list_names}_chr{chr_name}_{genome_build}_ranges_p{i+1}_of_{num_parts}_{hg38_genotype_imputation_type}_imputation.txt\"\n",
    "            )\n",
    "            with open(chr_file_ranges, \"w\") as cf:\n",
    "                for entry in part_snps:\n",
    "                    cf.write(entry + \"\\n\")\n",
    "\n",
    "print(f\"Created per-chromosome SNP coordinate files in {subdir}\")\n"
   ]
  },
  {
   "cell_type": "markdown",
   "id": "9d45cd62",
   "metadata": {},
   "source": [
    "Example command in terminal:\n",
    "\n",
    "dx upload /Users/sk37/Desktop/another_demo/score_file/per_chrom_snp_files_PGS005097/ranges_group/*.txt --destination IBD_Projects_Saniya:/second_saniya_demo/pgs_snps/ --brief"
   ]
  },
  {
   "cell_type": "code",
   "execution_count": 14,
   "id": "56abf533",
   "metadata": {},
   "outputs": [
    {
     "name": "stdout",
     "output_type": "stream",
     "text": [
      ":) Please run the following command on your terminal after logging into DNAnexus to upload this score model file to \n",
      " the following folder on DNAnexus portal for UK Biobank:  IBD_Projects_Saniya:/hg38_saniya_demo/pgs_scores/:\n",
      "\n",
      "dx upload /Users/sk37/Desktop/hg38_demo/score_file/*.txt --destination IBD_Projects_Saniya:/hg38_saniya_demo/pgs_scores/ --brief\n"
     ]
    }
   ],
   "source": [
    "print(\":) Please run the following command on your terminal after logging into DNAnexus to upload this score model file to \")\n",
    "print(f\" the following folder on DNAnexus portal for UK Biobank:  {dna_nexus_project_folder}pgs_scores/:\\n\")\n",
    "command1 = f\"dx upload {scores_fp + '*.txt'} --destination {dna_nexus_project_folder}pgs_scores/ --brief\"\n",
    "print(command1)"
   ]
  },
  {
   "cell_type": "code",
   "execution_count": 15,
   "id": "d9bf40e6",
   "metadata": {},
   "outputs": [
    {
     "name": "stdout",
     "output_type": "stream",
     "text": [
      ":) Please run the following command on your terminal after logging into DNAnexus to upload these score files per chromosome to \n",
      " the following folder on DNAnexus portal for UK Biobank:  IBD_Projects_Saniya:/hg38_saniya_demo/pgs_snps/:\n",
      "\n",
      "dx upload /Users/sk37/Desktop/hg38_demo/score_file/per_chrom_snp_files_GRCh38_combined_PGS005072/ranges_group/*.txt --destination IBD_Projects_Saniya:/hg38_saniya_demo/pgs_snps/ --brief\n"
     ]
    }
   ],
   "source": [
    "print(\":) Please run the following command on your terminal after logging into DNAnexus to upload these score files per chromosome to \")\n",
    "print(f\" the following folder on DNAnexus portal for UK Biobank:  {dna_nexus_project_folder}pgs_snps/:\\n\")\n",
    "command2 = f\"dx upload {subdir1}/*.txt --destination {dna_nexus_project_folder}pgs_snps/ --brief\"\n",
    "print(command2)"
   ]
  },
  {
   "cell_type": "markdown",
   "id": "27b90274",
   "metadata": {},
   "source": [
    "# Creating the Samplesheet for Step 6 (in advance)"
   ]
  },
  {
   "cell_type": "code",
   "execution_count": 16,
   "id": "e302666f",
   "metadata": {},
   "outputs": [
    {
     "data": {
      "text/plain": [
       "'all_chromosomes_SNPs_merged_PGS005072_GRCh38_topmed'"
      ]
     },
     "execution_count": 16,
     "metadata": {},
     "output_type": "execute_result"
    }
   ],
   "source": [
    "out_file = parent_file + \"samplesheet/\"\n",
    "sampleset = \"ukbiobank\"\n",
    "details = f\"all_chromosomes_SNPs_merged_{scores_list_names}_{genome_build}_{hg38_genotype_imputation_type}\"\n",
    "\n",
    "outname = f\"pgsc_calc_{scores_list_names}_{genome_build}_samplesheet_{hg38_genotype_imputation_type}.csv\"\n",
    "details"
   ]
  },
  {
   "cell_type": "code",
   "execution_count": 17,
   "id": "a0f46cc1",
   "metadata": {},
   "outputs": [
    {
     "data": {
      "text/html": [
       "<div>\n",
       "<style scoped>\n",
       "    .dataframe tbody tr th:only-of-type {\n",
       "        vertical-align: middle;\n",
       "    }\n",
       "\n",
       "    .dataframe tbody tr th {\n",
       "        vertical-align: top;\n",
       "    }\n",
       "\n",
       "    .dataframe thead th {\n",
       "        text-align: right;\n",
       "    }\n",
       "</style>\n",
       "<table border=\"1\" class=\"dataframe\">\n",
       "  <thead>\n",
       "    <tr style=\"text-align: right;\">\n",
       "      <th></th>\n",
       "      <th>sampleset</th>\n",
       "      <th>path_prefix</th>\n",
       "      <th>chrom</th>\n",
       "      <th>format</th>\n",
       "    </tr>\n",
       "  </thead>\n",
       "  <tbody>\n",
       "    <tr>\n",
       "      <th>0</th>\n",
       "      <td>ukbiobank</td>\n",
       "      <td>all_chromosomes_SNPs_merged_PGS005072_GRCh38_t...</td>\n",
       "      <td></td>\n",
       "      <td>bfile</td>\n",
       "    </tr>\n",
       "  </tbody>\n",
       "</table>\n",
       "</div>"
      ],
      "text/plain": [
       "   sampleset                                        path_prefix chrom format\n",
       "0  ukbiobank  all_chromosomes_SNPs_merged_PGS005072_GRCh38_t...        bfile"
      ]
     },
     "execution_count": 17,
     "metadata": {},
     "output_type": "execute_result"
    }
   ],
   "source": [
    "list_info = [sampleset, details, \"\", \"bfile\"]\n",
    "list_df = pd.DataFrame(list_info).T\n",
    "list_df.columns = [\"sampleset\", \"path_prefix\", \"chrom\", \"format\"]\n",
    "list_df"
   ]
  },
  {
   "cell_type": "code",
   "execution_count": 18,
   "id": "b3f943ee",
   "metadata": {},
   "outputs": [
    {
     "name": "stdout",
     "output_type": "stream",
     "text": [
      "/Users/sk37/Desktop/hg38_demo/samplesheet/pgsc_calc_PGS005072_GRCh38_samplesheet_topmed.csv\n"
     ]
    },
    {
     "data": {
      "text/html": [
       "<div>\n",
       "<style scoped>\n",
       "    .dataframe tbody tr th:only-of-type {\n",
       "        vertical-align: middle;\n",
       "    }\n",
       "\n",
       "    .dataframe tbody tr th {\n",
       "        vertical-align: top;\n",
       "    }\n",
       "\n",
       "    .dataframe thead th {\n",
       "        text-align: right;\n",
       "    }\n",
       "</style>\n",
       "<table border=\"1\" class=\"dataframe\">\n",
       "  <thead>\n",
       "    <tr style=\"text-align: right;\">\n",
       "      <th></th>\n",
       "      <th>sampleset</th>\n",
       "      <th>path_prefix</th>\n",
       "      <th>chrom</th>\n",
       "      <th>format</th>\n",
       "    </tr>\n",
       "  </thead>\n",
       "  <tbody>\n",
       "    <tr>\n",
       "      <th>0</th>\n",
       "      <td>ukbiobank</td>\n",
       "      <td>all_chromosomes_SNPs_merged_PGS005072_GRCh38_t...</td>\n",
       "      <td></td>\n",
       "      <td>bfile</td>\n",
       "    </tr>\n",
       "  </tbody>\n",
       "</table>\n",
       "</div>"
      ],
      "text/plain": [
       "   sampleset                                        path_prefix chrom format\n",
       "0  ukbiobank  all_chromosomes_SNPs_merged_PGS005072_GRCh38_t...        bfile"
      ]
     },
     "execution_count": 18,
     "metadata": {},
     "output_type": "execute_result"
    }
   ],
   "source": [
    "out_fp = out_file + outname\n",
    "print(out_fp)\n",
    "list_df.to_csv(out_fp, index = False)\n",
    "list_df"
   ]
  },
  {
   "cell_type": "code",
   "execution_count": 19,
   "id": "506dbd64",
   "metadata": {},
   "outputs": [
    {
     "name": "stdout",
     "output_type": "stream",
     "text": [
      ":) Please run the following command on your terminal after logging into DNAnexus to upload the samplesheet for PGSC Calculator to \n",
      " the following folder on DNAnexus portal for UK Biobank:  IBD_Projects_Saniya:/hg38_saniya_demo/:\n",
      "\n",
      "dx upload /Users/sk37/Desktop/hg38_demo/samplesheet/pgsc_calc_PGS005072_GRCh38_samplesheet_topmed.csv --destination IBD_Projects_Saniya:/hg38_saniya_demo/ --brief\n"
     ]
    }
   ],
   "source": [
    "print(\":) Please run the following command on your terminal after logging into DNAnexus to upload the samplesheet for PGSC Calculator to \")\n",
    "print(f\" the following folder on DNAnexus portal for UK Biobank:  {dna_nexus_project_folder}:\\n\")\n",
    "command3 = f\"dx upload {out_fp} --destination {dna_nexus_project_folder} --brief\"\n",
    "print(command3)"
   ]
  }
 ],
 "metadata": {
  "kernelspec": {
   "display_name": "Python 3",
   "language": "python",
   "name": "python3"
  },
  "language_info": {
   "codemirror_mode": {
    "name": "ipython",
    "version": 3
   },
   "file_extension": ".py",
   "mimetype": "text/x-python",
   "name": "python",
   "nbconvert_exporter": "python",
   "pygments_lexer": "ipython3",
   "version": "3.9.6"
  }
 },
 "nbformat": 4,
 "nbformat_minor": 5
}
