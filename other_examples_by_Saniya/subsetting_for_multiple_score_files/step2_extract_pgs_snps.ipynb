{
 "cells": [
  {
   "cell_type": "markdown",
   "id": "a73d2ee0",
   "metadata": {},
   "source": [
    "# Step 2:\n",
    "## Extracting SNPs (Variants) from PGS Catalog Score Files\n",
    "### By: Saniya Khullar :)\n",
    "\n",
    "Please verify that all of the score files have the same reference build (e.g. Hg19/GRCh37 or Hg38/GRCh38)"
   ]
  },
  {
   "cell_type": "code",
   "execution_count": 1,
   "id": "11db97d9",
   "metadata": {},
   "outputs": [
    {
     "name": "stderr",
     "output_type": "stream",
     "text": [
      "/Users/sk37/Library/Python/3.9/lib/python/site-packages/tqdm/auto.py:21: TqdmWarning: IProgress not found. Please update jupyter and ipywidgets. See https://ipywidgets.readthedocs.io/en/stable/user_install.html\n",
      "  from .autonotebook import tqdm as notebook_tqdm\n"
     ]
    }
   ],
   "source": [
    "import os\n",
    "from tqdm.auto import tqdm\n",
    "import pandas as pd\n",
    "import numpy as np\n",
    "from collections import defaultdict\n",
    "import math\n"
   ]
  },
  {
   "cell_type": "code",
   "execution_count": 2,
   "id": "775ba5d6",
   "metadata": {},
   "outputs": [],
   "source": [
    "parent_file = \"/Users/sk37/Desktop/newest_demo/\"\n",
    "dna_nexus_project_folder = \"IBD_Projects_Saniya:/combined_saniya_demo/\" # the main folder we are working with in dnanexus\n",
    "snp_threshold = 8000  # max SNPs per file\n",
    "scores_fp = parent_file + \"score_file/\""
   ]
  },
  {
   "cell_type": "code",
   "execution_count": 3,
   "id": "ed3fcde0",
   "metadata": {},
   "outputs": [
    {
     "data": {
      "text/plain": [
       "['PGS003725.txt', 'PGS005097.txt', 'PGS002724.txt']"
      ]
     },
     "execution_count": 3,
     "metadata": {},
     "output_type": "execute_result"
    }
   ],
   "source": [
    "scores_list = os.listdir(scores_fp)\n",
    "score_files_list = []\n",
    "for score_file in scores_list:\n",
    "    if \".txt\" in score_file:\n",
    "        score_files_list.append(score_file)\n",
    "score_files_list"
   ]
  },
  {
   "cell_type": "code",
   "execution_count": 4,
   "id": "5bb39385",
   "metadata": {},
   "outputs": [
    {
     "data": {
      "text/plain": [
       "184"
      ]
     },
     "execution_count": 4,
     "metadata": {},
     "output_type": "execute_result"
    }
   ],
   "source": [
    "len(os.listdir(\"/Users/sk37/Desktop/newest_demo/score_file/per_chrom_snp_files_GRCh37_combined_PGS002724_PGS003725_PGS005097/ranges_group/\"))"
   ]
  },
  {
   "cell_type": "code",
   "execution_count": 5,
   "id": "b0e438d1",
   "metadata": {},
   "outputs": [
    {
     "name": "stdout",
     "output_type": "stream",
     "text": [
      "/Users/sk37/Desktop/newest_demo/score_file\n",
      ":) Please note: pgs_id = PGS003725 and genome_build = hg19\n"
     ]
    },
    {
     "name": "stderr",
     "output_type": "stream",
     "text": [
      ":) going through each line to find start of score data: 100%|██████████| 1296187/1296187 [00:00<00:00, 3144269.50it/s]\n"
     ]
    },
    {
     "name": "stdout",
     "output_type": "stream",
     "text": [
      "Saved SNP table to /Users/sk37/Desktop/newest_demo/score_file/PGS003725_SNPs_hg19.tsv\n",
      "/Users/sk37/Desktop/newest_demo/score_file\n",
      ":) Please note: pgs_id = PGS005097 and genome_build = GRCh37\n"
     ]
    },
    {
     "name": "stderr",
     "output_type": "stream",
     "text": [
      ":) going through each line to find start of score data: 100%|██████████| 1274707/1274707 [00:00<00:00, 2966352.18it/s]\n"
     ]
    },
    {
     "name": "stdout",
     "output_type": "stream",
     "text": [
      "Saved SNP table to /Users/sk37/Desktop/newest_demo/score_file/PGS005097_SNPs_GRCh37.tsv\n",
      "/Users/sk37/Desktop/newest_demo/score_file\n",
      ":) Please note: pgs_id = PGS002724 and genome_build = GRCh37\n"
     ]
    },
    {
     "name": "stderr",
     "output_type": "stream",
     "text": [
      ":) going through each line to find start of score data: 100%|██████████| 1213589/1213589 [00:00<00:00, 3435525.99it/s]\n"
     ]
    },
    {
     "name": "stdout",
     "output_type": "stream",
     "text": [
      "Saved SNP table to /Users/sk37/Desktop/newest_demo/score_file/PGS002724_SNPs_GRCh37.tsv\n"
     ]
    }
   ],
   "source": [
    "for score_name in score_files_list:\n",
    "    input_file = scores_fp + score_name\n",
    "    dir_name = os.path.dirname(os.path.abspath(input_file))\n",
    "    print(dir_name)\n",
    "\n",
    "    # Read file\n",
    "    with open(input_file, \"r\") as f:\n",
    "        lines = f.readlines()\n",
    "\n",
    "    # Extract pgs_id and genome_build from header\n",
    "    pgs_id = None\n",
    "    genome_build = None\n",
    "    for line in lines:\n",
    "        if line.startswith(\"#pgs_id=\"):\n",
    "            pgs_id = line.strip().split(\"=\")[1]\n",
    "        elif line.startswith(\"#genome_build=\"):\n",
    "            genome_build = line.strip().split(\"=\")[1]\n",
    "\n",
    "    if not pgs_id or not genome_build:\n",
    "        raise ValueError(\"pgs_id or genome_build missing in file header.\")\n",
    "    print(f\":) Please note: pgs_id = {pgs_id} and genome_build = {genome_build}\")\n",
    "\n",
    "    # Extract SNP table (start at header \"rsID\")\n",
    "    snp_lines = []\n",
    "    header_found = False\n",
    "    for line in tqdm(lines, desc = \":) going through each line to find start of score data\"):\n",
    "        if line.startswith(\"#\") == False:\n",
    "        # if line.startswith(\"rsID\"):\n",
    "            header_found = True\n",
    "            snp_lines.append(line.strip())  # include header\n",
    "            continue\n",
    "        if header_found:\n",
    "            if line.strip() and not line.startswith(\"#\"):\n",
    "                snp_lines.append(line.strip())\n",
    "\n",
    "    # Save SNP table to TSV\n",
    "    output_tsv = os.path.join(dir_name, f\"{pgs_id}_SNPs_{genome_build}.tsv\")\n",
    "    with open(output_tsv, \"w\") as f:\n",
    "        f.write(\"\\n\".join(snp_lines) + \"\\n\")\n",
    "\n",
    "    print(f\"Saved SNP table to {output_tsv}\")"
   ]
  },
  {
   "cell_type": "code",
   "execution_count": 6,
   "id": "8fc9e32f",
   "metadata": {},
   "outputs": [
    {
     "data": {
      "text/plain": [
       "['PGS002724_SNPs_GRCh37.tsv',\n",
       " 'PGS003725_SNPs_hg19.tsv',\n",
       " 'PGS005097_SNPs_GRCh37.tsv']"
      ]
     },
     "execution_count": 6,
     "metadata": {},
     "output_type": "execute_result"
    }
   ],
   "source": [
    "scores_list = os.listdir(scores_fp)\n",
    "score_files_list = []\n",
    "for score_file in scores_list:\n",
    "    if \".tsv\" in score_file:\n",
    "        score_files_list.append(score_file)\n",
    "score_files_list"
   ]
  },
  {
   "cell_type": "code",
   "execution_count": 7,
   "id": "6c71a4e6",
   "metadata": {},
   "outputs": [
    {
     "name": "stderr",
     "output_type": "stream",
     "text": [
      "100%|██████████| 3/3 [00:01<00:00,  2.65it/s]\n"
     ]
    },
    {
     "data": {
      "text/html": [
       "<div>\n",
       "<style scoped>\n",
       "    .dataframe tbody tr th:only-of-type {\n",
       "        vertical-align: middle;\n",
       "    }\n",
       "\n",
       "    .dataframe tbody tr th {\n",
       "        vertical-align: top;\n",
       "    }\n",
       "\n",
       "    .dataframe thead th {\n",
       "        text-align: right;\n",
       "    }\n",
       "</style>\n",
       "<table border=\"1\" class=\"dataframe\">\n",
       "  <thead>\n",
       "    <tr style=\"text-align: right;\">\n",
       "      <th></th>\n",
       "      <th>chr_name</th>\n",
       "      <th>chr_position</th>\n",
       "      <th>effect_allele</th>\n",
       "      <th>other_allele</th>\n",
       "      <th>effect_weight</th>\n",
       "      <th>rsID</th>\n",
       "    </tr>\n",
       "  </thead>\n",
       "  <tbody>\n",
       "    <tr>\n",
       "      <th>0</th>\n",
       "      <td>1</td>\n",
       "      <td>752721</td>\n",
       "      <td>G</td>\n",
       "      <td>A</td>\n",
       "      <td>50.200914</td>\n",
       "      <td>NaN</td>\n",
       "    </tr>\n",
       "    <tr>\n",
       "      <th>1</th>\n",
       "      <td>1</td>\n",
       "      <td>754182</td>\n",
       "      <td>G</td>\n",
       "      <td>A</td>\n",
       "      <td>141.073654</td>\n",
       "      <td>NaN</td>\n",
       "    </tr>\n",
       "    <tr>\n",
       "      <th>2</th>\n",
       "      <td>1</td>\n",
       "      <td>760912</td>\n",
       "      <td>T</td>\n",
       "      <td>C</td>\n",
       "      <td>180.556537</td>\n",
       "      <td>NaN</td>\n",
       "    </tr>\n",
       "    <tr>\n",
       "      <th>3</th>\n",
       "      <td>1</td>\n",
       "      <td>768448</td>\n",
       "      <td>A</td>\n",
       "      <td>G</td>\n",
       "      <td>-74.643825</td>\n",
       "      <td>NaN</td>\n",
       "    </tr>\n",
       "    <tr>\n",
       "      <th>4</th>\n",
       "      <td>1</td>\n",
       "      <td>779322</td>\n",
       "      <td>G</td>\n",
       "      <td>A</td>\n",
       "      <td>-137.024959</td>\n",
       "      <td>NaN</td>\n",
       "    </tr>\n",
       "    <tr>\n",
       "      <th>...</th>\n",
       "      <td>...</td>\n",
       "      <td>...</td>\n",
       "      <td>...</td>\n",
       "      <td>...</td>\n",
       "      <td>...</td>\n",
       "      <td>...</td>\n",
       "    </tr>\n",
       "    <tr>\n",
       "      <th>3784433</th>\n",
       "      <td>9</td>\n",
       "      <td>141017562</td>\n",
       "      <td>G</td>\n",
       "      <td>A</td>\n",
       "      <td>-0.000021</td>\n",
       "      <td>rs9410163</td>\n",
       "    </tr>\n",
       "    <tr>\n",
       "      <th>3784434</th>\n",
       "      <td>9</td>\n",
       "      <td>141018423</td>\n",
       "      <td>T</td>\n",
       "      <td>C</td>\n",
       "      <td>-0.000033</td>\n",
       "      <td>rs9777369</td>\n",
       "    </tr>\n",
       "    <tr>\n",
       "      <th>3784435</th>\n",
       "      <td>9</td>\n",
       "      <td>141023914</td>\n",
       "      <td>G</td>\n",
       "      <td>A</td>\n",
       "      <td>0.000006</td>\n",
       "      <td>rs12335803</td>\n",
       "    </tr>\n",
       "    <tr>\n",
       "      <th>3784436</th>\n",
       "      <td>9</td>\n",
       "      <td>141025328</td>\n",
       "      <td>A</td>\n",
       "      <td>C</td>\n",
       "      <td>0.000098</td>\n",
       "      <td>rs11137376</td>\n",
       "    </tr>\n",
       "    <tr>\n",
       "      <th>3784437</th>\n",
       "      <td>9</td>\n",
       "      <td>141026318</td>\n",
       "      <td>A</td>\n",
       "      <td>G</td>\n",
       "      <td>0.000003</td>\n",
       "      <td>rs17583562</td>\n",
       "    </tr>\n",
       "  </tbody>\n",
       "</table>\n",
       "<p>3784438 rows × 6 columns</p>\n",
       "</div>"
      ],
      "text/plain": [
       "         chr_name  chr_position effect_allele other_allele  effect_weight  \\\n",
       "0               1        752721             G            A      50.200914   \n",
       "1               1        754182             G            A     141.073654   \n",
       "2               1        760912             T            C     180.556537   \n",
       "3               1        768448             A            G     -74.643825   \n",
       "4               1        779322             G            A    -137.024959   \n",
       "...           ...           ...           ...          ...            ...   \n",
       "3784433         9     141017562             G            A      -0.000021   \n",
       "3784434         9     141018423             T            C      -0.000033   \n",
       "3784435         9     141023914             G            A       0.000006   \n",
       "3784436         9     141025328             A            C       0.000098   \n",
       "3784437         9     141026318             A            G       0.000003   \n",
       "\n",
       "               rsID  \n",
       "0               NaN  \n",
       "1               NaN  \n",
       "2               NaN  \n",
       "3               NaN  \n",
       "4               NaN  \n",
       "...             ...  \n",
       "3784433   rs9410163  \n",
       "3784434   rs9777369  \n",
       "3784435  rs12335803  \n",
       "3784436  rs11137376  \n",
       "3784437  rs17583562  \n",
       "\n",
       "[3784438 rows x 6 columns]"
      ]
     },
     "execution_count": 7,
     "metadata": {},
     "output_type": "execute_result"
    }
   ],
   "source": [
    "df_list = []\n",
    "for score_name in tqdm(score_files_list):\n",
    "    input_file = scores_fp + score_name\n",
    "    df = pd.read_csv(input_file, sep = \"\\t\")\n",
    "    df_list.append(df)\n",
    "combined = pd.concat(df_list, axis=0, join='outer', ignore_index=True)\n",
    "combined\n"
   ]
  },
  {
   "cell_type": "code",
   "execution_count": 51,
   "id": "b3af7400",
   "metadata": {},
   "outputs": [
    {
     "data": {
      "text/plain": [
       "'PGS002724_PGS003725_PGS005097'"
      ]
     },
     "execution_count": 51,
     "metadata": {},
     "output_type": "execute_result"
    }
   ],
   "source": [
    "scores_list_names = '_'.join([i.split(\"_\")[0] for i in score_files_list])\n",
    "scores_list_names"
   ]
  },
  {
   "cell_type": "code",
   "execution_count": 59,
   "id": "ceb0adc2",
   "metadata": {},
   "outputs": [
    {
     "name": "stdout",
     "output_type": "stream",
     "text": [
      ":) Please note that there are 1,389,069 unique GRCh37 variants combined across these 3 score files: PGS002724_PGS003725_PGS005097\n"
     ]
    },
    {
     "data": {
      "text/html": [
       "<div>\n",
       "<style scoped>\n",
       "    .dataframe tbody tr th:only-of-type {\n",
       "        vertical-align: middle;\n",
       "    }\n",
       "\n",
       "    .dataframe tbody tr th {\n",
       "        vertical-align: top;\n",
       "    }\n",
       "\n",
       "    .dataframe thead th {\n",
       "        text-align: right;\n",
       "    }\n",
       "</style>\n",
       "<table border=\"1\" class=\"dataframe\">\n",
       "  <thead>\n",
       "    <tr style=\"text-align: right;\">\n",
       "      <th></th>\n",
       "      <th>chr_name</th>\n",
       "      <th>chr_position</th>\n",
       "    </tr>\n",
       "  </thead>\n",
       "  <tbody>\n",
       "    <tr>\n",
       "      <th>0</th>\n",
       "      <td>1</td>\n",
       "      <td>752721</td>\n",
       "    </tr>\n",
       "    <tr>\n",
       "      <th>1</th>\n",
       "      <td>1</td>\n",
       "      <td>754182</td>\n",
       "    </tr>\n",
       "    <tr>\n",
       "      <th>2</th>\n",
       "      <td>1</td>\n",
       "      <td>760912</td>\n",
       "    </tr>\n",
       "    <tr>\n",
       "      <th>3</th>\n",
       "      <td>1</td>\n",
       "      <td>768448</td>\n",
       "    </tr>\n",
       "    <tr>\n",
       "      <th>4</th>\n",
       "      <td>1</td>\n",
       "      <td>779322</td>\n",
       "    </tr>\n",
       "    <tr>\n",
       "      <th>...</th>\n",
       "      <td>...</td>\n",
       "      <td>...</td>\n",
       "    </tr>\n",
       "    <tr>\n",
       "      <th>3749895</th>\n",
       "      <td>9</td>\n",
       "      <td>72940970</td>\n",
       "    </tr>\n",
       "    <tr>\n",
       "      <th>3752340</th>\n",
       "      <td>9</td>\n",
       "      <td>78232311</td>\n",
       "    </tr>\n",
       "    <tr>\n",
       "      <th>3757233</th>\n",
       "      <td>9</td>\n",
       "      <td>87552671</td>\n",
       "    </tr>\n",
       "    <tr>\n",
       "      <th>3762264</th>\n",
       "      <td>9</td>\n",
       "      <td>98069071</td>\n",
       "    </tr>\n",
       "    <tr>\n",
       "      <th>3763423</th>\n",
       "      <td>9</td>\n",
       "      <td>100787955</td>\n",
       "    </tr>\n",
       "  </tbody>\n",
       "</table>\n",
       "<p>1389069 rows × 2 columns</p>\n",
       "</div>"
      ],
      "text/plain": [
       "         chr_name  chr_position\n",
       "0               1        752721\n",
       "1               1        754182\n",
       "2               1        760912\n",
       "3               1        768448\n",
       "4               1        779322\n",
       "...           ...           ...\n",
       "3749895         9      72940970\n",
       "3752340         9      78232311\n",
       "3757233         9      87552671\n",
       "3762264         9      98069071\n",
       "3763423         9     100787955\n",
       "\n",
       "[1389069 rows x 2 columns]"
      ]
     },
     "execution_count": 59,
     "metadata": {},
     "output_type": "execute_result"
    }
   ],
   "source": [
    "total_unique_variants_df = combined[[\"chr_name\", \"chr_position\"]].drop_duplicates()\n",
    "print(f\":) Please note that there are {total_unique_variants_df.shape[0]:,} unique {genome_build} variants combined across these {len(score_files_list)} score files: {scores_list_names}\")\n",
    "total_unique_variants_df"
   ]
  },
  {
   "cell_type": "code",
   "execution_count": 50,
   "id": "3256a0e7",
   "metadata": {},
   "outputs": [
    {
     "data": {
      "text/html": [
       "<div>\n",
       "<style scoped>\n",
       "    .dataframe tbody tr th:only-of-type {\n",
       "        vertical-align: middle;\n",
       "    }\n",
       "\n",
       "    .dataframe tbody tr th {\n",
       "        vertical-align: top;\n",
       "    }\n",
       "\n",
       "    .dataframe thead th {\n",
       "        text-align: right;\n",
       "    }\n",
       "</style>\n",
       "<table border=\"1\" class=\"dataframe\">\n",
       "  <thead>\n",
       "    <tr style=\"text-align: right;\">\n",
       "      <th></th>\n",
       "      <th>chr_name</th>\n",
       "      <th>chr_position</th>\n",
       "      <th>effect_allele</th>\n",
       "      <th>other_allele</th>\n",
       "      <th>effect_weight</th>\n",
       "      <th>rsID</th>\n",
       "    </tr>\n",
       "  </thead>\n",
       "  <tbody>\n",
       "    <tr>\n",
       "      <th>0</th>\n",
       "      <td>1</td>\n",
       "      <td>752721</td>\n",
       "      <td>G</td>\n",
       "      <td>A</td>\n",
       "      <td>50.200914</td>\n",
       "      <td>NaN</td>\n",
       "    </tr>\n",
       "    <tr>\n",
       "      <th>1</th>\n",
       "      <td>1</td>\n",
       "      <td>754182</td>\n",
       "      <td>G</td>\n",
       "      <td>A</td>\n",
       "      <td>141.073654</td>\n",
       "      <td>NaN</td>\n",
       "    </tr>\n",
       "    <tr>\n",
       "      <th>2</th>\n",
       "      <td>1</td>\n",
       "      <td>760912</td>\n",
       "      <td>T</td>\n",
       "      <td>C</td>\n",
       "      <td>180.556537</td>\n",
       "      <td>NaN</td>\n",
       "    </tr>\n",
       "    <tr>\n",
       "      <th>3</th>\n",
       "      <td>1</td>\n",
       "      <td>768448</td>\n",
       "      <td>A</td>\n",
       "      <td>G</td>\n",
       "      <td>-74.643825</td>\n",
       "      <td>NaN</td>\n",
       "    </tr>\n",
       "    <tr>\n",
       "      <th>4</th>\n",
       "      <td>1</td>\n",
       "      <td>779322</td>\n",
       "      <td>G</td>\n",
       "      <td>A</td>\n",
       "      <td>-137.024959</td>\n",
       "      <td>NaN</td>\n",
       "    </tr>\n",
       "    <tr>\n",
       "      <th>...</th>\n",
       "      <td>...</td>\n",
       "      <td>...</td>\n",
       "      <td>...</td>\n",
       "      <td>...</td>\n",
       "      <td>...</td>\n",
       "      <td>...</td>\n",
       "    </tr>\n",
       "    <tr>\n",
       "      <th>3784433</th>\n",
       "      <td>9</td>\n",
       "      <td>141017562</td>\n",
       "      <td>G</td>\n",
       "      <td>A</td>\n",
       "      <td>-0.000021</td>\n",
       "      <td>rs9410163</td>\n",
       "    </tr>\n",
       "    <tr>\n",
       "      <th>3784434</th>\n",
       "      <td>9</td>\n",
       "      <td>141018423</td>\n",
       "      <td>T</td>\n",
       "      <td>C</td>\n",
       "      <td>-0.000033</td>\n",
       "      <td>rs9777369</td>\n",
       "    </tr>\n",
       "    <tr>\n",
       "      <th>3784435</th>\n",
       "      <td>9</td>\n",
       "      <td>141023914</td>\n",
       "      <td>G</td>\n",
       "      <td>A</td>\n",
       "      <td>0.000006</td>\n",
       "      <td>rs12335803</td>\n",
       "    </tr>\n",
       "    <tr>\n",
       "      <th>3784436</th>\n",
       "      <td>9</td>\n",
       "      <td>141025328</td>\n",
       "      <td>A</td>\n",
       "      <td>C</td>\n",
       "      <td>0.000098</td>\n",
       "      <td>rs11137376</td>\n",
       "    </tr>\n",
       "    <tr>\n",
       "      <th>3784437</th>\n",
       "      <td>9</td>\n",
       "      <td>141026318</td>\n",
       "      <td>A</td>\n",
       "      <td>G</td>\n",
       "      <td>0.000003</td>\n",
       "      <td>rs17583562</td>\n",
       "    </tr>\n",
       "  </tbody>\n",
       "</table>\n",
       "<p>3784438 rows × 6 columns</p>\n",
       "</div>"
      ],
      "text/plain": [
       "         chr_name  chr_position effect_allele other_allele  effect_weight  \\\n",
       "0               1        752721             G            A      50.200914   \n",
       "1               1        754182             G            A     141.073654   \n",
       "2               1        760912             T            C     180.556537   \n",
       "3               1        768448             A            G     -74.643825   \n",
       "4               1        779322             G            A    -137.024959   \n",
       "...           ...           ...           ...          ...            ...   \n",
       "3784433         9     141017562             G            A      -0.000021   \n",
       "3784434         9     141018423             T            C      -0.000033   \n",
       "3784435         9     141023914             G            A       0.000006   \n",
       "3784436         9     141025328             A            C       0.000098   \n",
       "3784437         9     141026318             A            G       0.000003   \n",
       "\n",
       "               rsID  \n",
       "0               NaN  \n",
       "1               NaN  \n",
       "2               NaN  \n",
       "3               NaN  \n",
       "4               NaN  \n",
       "...             ...  \n",
       "3784433   rs9410163  \n",
       "3784434   rs9777369  \n",
       "3784435  rs12335803  \n",
       "3784436  rs11137376  \n",
       "3784437  rs17583562  \n",
       "\n",
       "[3784438 rows x 6 columns]"
      ]
     },
     "execution_count": 50,
     "metadata": {},
     "output_type": "execute_result"
    }
   ],
   "source": [
    "combined"
   ]
  },
  {
   "cell_type": "code",
   "execution_count": 53,
   "id": "4bab05a0",
   "metadata": {},
   "outputs": [
    {
     "name": "stderr",
     "output_type": "stream",
     "text": [
      "100%|██████████| 3784438/3784438 [00:06<00:00, 600855.89it/s]\n"
     ]
    }
   ],
   "source": [
    "# Create subdirectory for per-chromosome files\n",
    "subdir = os.path.join(dir_name, f\"per_chrom_snp_files_{genome_build}_combined_{scores_list_names}\")\n",
    "subdir1 = os.path.join(subdir, \"ranges_group\")\n",
    "\n",
    "os.makedirs(subdir, exist_ok=True)\n",
    "os.makedirs(subdir1, exist_ok=True)\n",
    "\n",
    "# Ordered dicts for uniqueness while preserving input order\n",
    "chrom_ranges = defaultdict(dict)\n",
    "\n",
    "chrom_found_list = []\n",
    "\n",
    "# Collect SNPs\n",
    "# Parse header dynamically\n",
    "header = combined.columns.tolist()\n",
    "chr_name_idx = header.index(\"chr_name\")\n",
    "chr_pos_idx = header.index(\"chr_position\")\n",
    "\n",
    "snp_lines_to_use = combined.values.tolist()\n",
    "# Collect SNPs\n",
    "for row in tqdm(snp_lines_to_use):  # skip header\n",
    "    cols = [str(i) for i in row]#.strip().split(\"\\t\")\n",
    "    chr_name = cols[chr_name_idx]\n",
    "    chr_pos = int(cols[chr_pos_idx])\n",
    "\n",
    "    # Format chromosome with leading zero if < 10\n",
    "    chr_fmt = f\"{int(chr_name):02d}\" if chr_name.isdigit() and int(chr_name) < 10 else chr_name\n",
    "\n",
    "    chrom_found_list.append(chr_name)\n",
    "\n",
    "    # Use dict keys for uniqueness, keeps insertion order\n",
    "    chrom_ranges[chr_name][f\"{chr_fmt}:{chr_pos}-{chr_pos}\"] = None\n"
   ]
  },
  {
   "cell_type": "code",
   "execution_count": null,
   "id": "f810322e",
   "metadata": {},
   "outputs": [
    {
     "name": "stderr",
     "output_type": "stream",
     "text": [
      " 23%|██▎       | 5/22 [00:00<00:00, 47.87it/s]"
     ]
    },
    {
     "name": "stdout",
     "output_type": "stream",
     "text": [
      ":) Please note that chromosome 1 has 116,289 total GRCh37 human variants or SNPs for score file PGS002724\n",
      ":) Please note that chromosome 2 has 116,914 total GRCh37 human variants or SNPs for score file PGS002724\n",
      ":) Please note that chromosome 3 has 96,703 total GRCh37 human variants or SNPs for score file PGS002724\n",
      ":) Please note that chromosome 4 has 86,886 total GRCh37 human variants or SNPs for score file PGS002724\n",
      ":) Please note that chromosome 5 has 86,321 total GRCh37 human variants or SNPs for score file PGS002724\n",
      ":) Please note that chromosome 6 has 92,081 total GRCh37 human variants or SNPs for score file PGS002724\n",
      ":) Please note that chromosome 7 has 75,776 total GRCh37 human variants or SNPs for score file PGS002724\n",
      ":) Please note that chromosome 8 has 74,395 total GRCh37 human variants or SNPs for score file PGS002724\n",
      ":) Please note that chromosome 9 has 63,411 total GRCh37 human variants or SNPs for score file PGS002724\n",
      ":) Please note that chromosome 10 has 73,835 total GRCh37 human variants or SNPs for score file PGS002724\n",
      ":) Please note that chromosome 11 has 71,092 total GRCh37 human variants or SNPs for score file PGS002724\n",
      ":) Please note that chromosome 12 has 69,238 total GRCh37 human variants or SNPs for score file PGS002724\n",
      ":) Please note that chromosome 13 has 51,966 total GRCh37 human variants or SNPs for score file PGS002724\n",
      ":) Please note that chromosome 14 has 45,563 total GRCh37 human variants or SNPs for score file PGS002724\n"
     ]
    },
    {
     "name": "stderr",
     "output_type": "stream",
     "text": [
      "100%|██████████| 22/22 [00:00<00:00, 76.44it/s]"
     ]
    },
    {
     "name": "stdout",
     "output_type": "stream",
     "text": [
      ":) Please note that chromosome 15 has 42,245 total GRCh37 human variants or SNPs for score file PGS002724\n",
      ":) Please note that chromosome 16 has 43,488 total GRCh37 human variants or SNPs for score file PGS002724\n",
      ":) Please note that chromosome 17 has 38,939 total GRCh37 human variants or SNPs for score file PGS002724\n",
      ":) Please note that chromosome 18 has 41,035 total GRCh37 human variants or SNPs for score file PGS002724\n",
      ":) Please note that chromosome 19 has 27,257 total GRCh37 human variants or SNPs for score file PGS002724\n",
      ":) Please note that chromosome 20 has 36,091 total GRCh37 human variants or SNPs for score file PGS002724\n",
      ":) Please note that chromosome 21 has 19,273 total GRCh37 human variants or SNPs for score file PGS002724\n",
      ":) Please note that chromosome 22 has 20,271 total GRCh37 human variants or SNPs for score file PGS002724\n",
      "Created per-chromosome SNP coordinate files in /Users/sk37/Desktop/newest_demo/score_file/per_chrom_snp_files_GRCh37_combined_PGS002724_PGS003725_PGS005097\n"
     ]
    },
    {
     "name": "stderr",
     "output_type": "stream",
     "text": [
      "\n"
     ]
    }
   ],
   "source": [
    "# Write unique SNPs per chromosome, split into multiple files if needed\n",
    "for chr_name, snps_dict in tqdm(chrom_ranges.items()):\n",
    "    snps_list = list(snps_dict.keys())\n",
    "    total_snps = len(snps_list)\n",
    "    print(f\":) Please note that chromosome {chr_name} has {total_snps:,} total {genome_build} human variants or SNPs for score file {pgs_id}\")\n",
    "    if total_snps <= snp_threshold:\n",
    "        # Single file\n",
    "        chr_file_ranges = os.path.join(subdir1, f\"{pgs_id}_chr{chr_name}_{genome_build}_ranges.txt\")\n",
    "        with open(chr_file_ranges, \"w\") as cf:\n",
    "            for entry in snps_list:\n",
    "                cf.write(entry + \"\\n\")\n",
    "    else:\n",
    "        # Split into multiple files\n",
    "        num_parts = math.ceil(total_snps / snp_threshold)\n",
    "        for i in range(num_parts):\n",
    "            start_idx = i * snp_threshold\n",
    "            end_idx = min(start_idx + snp_threshold, total_snps)\n",
    "            part_snps = snps_list[start_idx:end_idx]\n",
    "            \n",
    "            chr_file_ranges = os.path.join(\n",
    "                subdir1, \n",
    "                f\"{scores_list_names}_chr{chr_name}_{genome_build}_ranges_p{i+1}_of_{num_parts}.txt\"\n",
    "            )\n",
    "            with open(chr_file_ranges, \"w\") as cf:\n",
    "                for entry in part_snps:\n",
    "                    cf.write(entry + \"\\n\")\n",
    "\n",
    "print(f\"Created per-chromosome SNP coordinate files in {subdir}\")\n"
   ]
  },
  {
   "cell_type": "markdown",
   "id": "9d45cd62",
   "metadata": {},
   "source": [
    "Example command in terminal:\n",
    "\n",
    "dx upload /Users/sk37/Desktop/another_demo/score_file/per_chrom_snp_files_PGS005097/ranges_group/*.txt --destination IBD_Projects_Saniya:/second_saniya_demo/pgs_snps/ --brief"
   ]
  },
  {
   "cell_type": "code",
   "execution_count": null,
   "id": "56abf533",
   "metadata": {},
   "outputs": [
    {
     "name": "stdout",
     "output_type": "stream",
     "text": [
      ":) Please run the following command on your terminal after logging into DNAnexus to upload this score model file to \n",
      " the following folder on DNAnexus portal for UK Biobank:  IBD_Projects_Saniya:/combined_saniya_demo/pgs_scores/:\n",
      "\n",
      "dx upload /Users/sk37/Desktop/newest_demo/score_file/*.txt --destination IBD_Projects_Saniya:/combined_saniya_demo/pgs_scores/ --brief\n"
     ]
    }
   ],
   "source": [
    "print(\":) Please run the following command on your terminal after logging into DNAnexus to upload this score model file to \")\n",
    "print(f\" the following folder on DNAnexus portal for UK Biobank:  {dna_nexus_project_folder}pgs_scores/:\\n\")\n",
    "command1 = f\"dx upload {scores_fp + '*.txt'} --destination {dna_nexus_project_folder}pgs_scores/ --brief\"\n",
    "print(command1)"
   ]
  },
  {
   "cell_type": "code",
   "execution_count": null,
   "id": "d9bf40e6",
   "metadata": {},
   "outputs": [
    {
     "name": "stdout",
     "output_type": "stream",
     "text": [
      ":) Please run the following command on your terminal after logging into DNAnexus to upload these score files per chromosome to \n",
      " the following folder on DNAnexus portal for UK Biobank:  IBD_Projects_Saniya:/combined_saniya_demo/pgs_snps/:\n",
      "\n",
      "dx upload /Users/sk37/Desktop/newest_demo/score_file/per_chrom_snp_files_GRCh37_combined_PGS002724_PGS003725_PGS005097/ranges_group/*.txt --destination IBD_Projects_Saniya:/combined_saniya_demo/pgs_snps/ --brief\n"
     ]
    }
   ],
   "source": [
    "print(\":) Please run the following command on your terminal after logging into DNAnexus to upload these score files per chromosome to \")\n",
    "print(f\" the following folder on DNAnexus portal for UK Biobank:  {dna_nexus_project_folder}pgs_snps/:\\n\")\n",
    "command2 = f\"dx upload {subdir1}/*.txt --destination {dna_nexus_project_folder}pgs_snps/ --brief\"\n",
    "print(command2)"
   ]
  },
  {
   "cell_type": "markdown",
   "id": "27b90274",
   "metadata": {},
   "source": [
    "# Creating the Samplesheet for Step 6 (in advance)"
   ]
  },
  {
   "cell_type": "code",
   "execution_count": 37,
   "id": "e302666f",
   "metadata": {},
   "outputs": [
    {
     "data": {
      "text/plain": [
       "'all_chromosomes_SNPs_merged_PGS002724_PGS003725_PGS005097_GRCh37'"
      ]
     },
     "execution_count": 37,
     "metadata": {},
     "output_type": "execute_result"
    }
   ],
   "source": [
    "out_file = parent_file + \"samplesheet/\"\n",
    "sampleset = \"ukbiobank\"\n",
    "details = f\"all_chromosomes_SNPs_merged_{scores_list_names}_{genome_build}\"\n",
    "outname = f\"pgsc_calc_{scores_list_names}_{genome_build}_samplesheet.csv\"\n",
    "details"
   ]
  },
  {
   "cell_type": "code",
   "execution_count": 38,
   "id": "a0f46cc1",
   "metadata": {},
   "outputs": [
    {
     "data": {
      "text/html": [
       "<div>\n",
       "<style scoped>\n",
       "    .dataframe tbody tr th:only-of-type {\n",
       "        vertical-align: middle;\n",
       "    }\n",
       "\n",
       "    .dataframe tbody tr th {\n",
       "        vertical-align: top;\n",
       "    }\n",
       "\n",
       "    .dataframe thead th {\n",
       "        text-align: right;\n",
       "    }\n",
       "</style>\n",
       "<table border=\"1\" class=\"dataframe\">\n",
       "  <thead>\n",
       "    <tr style=\"text-align: right;\">\n",
       "      <th></th>\n",
       "      <th>sampleset</th>\n",
       "      <th>path_prefix</th>\n",
       "      <th>chrom</th>\n",
       "      <th>format</th>\n",
       "    </tr>\n",
       "  </thead>\n",
       "  <tbody>\n",
       "    <tr>\n",
       "      <th>0</th>\n",
       "      <td>ukbiobank</td>\n",
       "      <td>all_chromosomes_SNPs_merged_PGS002724_PGS00372...</td>\n",
       "      <td></td>\n",
       "      <td>bfile</td>\n",
       "    </tr>\n",
       "  </tbody>\n",
       "</table>\n",
       "</div>"
      ],
      "text/plain": [
       "   sampleset                                        path_prefix chrom format\n",
       "0  ukbiobank  all_chromosomes_SNPs_merged_PGS002724_PGS00372...        bfile"
      ]
     },
     "execution_count": 38,
     "metadata": {},
     "output_type": "execute_result"
    }
   ],
   "source": [
    "list_info = [sampleset, details, \"\", \"bfile\"]\n",
    "list_df = pd.DataFrame(list_info).T\n",
    "list_df.columns = [\"sampleset\", \"path_prefix\", \"chrom\", \"format\"]\n",
    "list_df"
   ]
  },
  {
   "cell_type": "code",
   "execution_count": 39,
   "id": "b3f943ee",
   "metadata": {},
   "outputs": [
    {
     "name": "stdout",
     "output_type": "stream",
     "text": [
      "/Users/sk37/Desktop/newest_demo/samplesheet/pgsc_calc_PGS002724_PGS003725_PGS005097_GRCh37_samplesheet.csv\n"
     ]
    },
    {
     "data": {
      "text/html": [
       "<div>\n",
       "<style scoped>\n",
       "    .dataframe tbody tr th:only-of-type {\n",
       "        vertical-align: middle;\n",
       "    }\n",
       "\n",
       "    .dataframe tbody tr th {\n",
       "        vertical-align: top;\n",
       "    }\n",
       "\n",
       "    .dataframe thead th {\n",
       "        text-align: right;\n",
       "    }\n",
       "</style>\n",
       "<table border=\"1\" class=\"dataframe\">\n",
       "  <thead>\n",
       "    <tr style=\"text-align: right;\">\n",
       "      <th></th>\n",
       "      <th>sampleset</th>\n",
       "      <th>path_prefix</th>\n",
       "      <th>chrom</th>\n",
       "      <th>format</th>\n",
       "    </tr>\n",
       "  </thead>\n",
       "  <tbody>\n",
       "    <tr>\n",
       "      <th>0</th>\n",
       "      <td>ukbiobank</td>\n",
       "      <td>all_chromosomes_SNPs_merged_PGS002724_PGS00372...</td>\n",
       "      <td></td>\n",
       "      <td>bfile</td>\n",
       "    </tr>\n",
       "  </tbody>\n",
       "</table>\n",
       "</div>"
      ],
      "text/plain": [
       "   sampleset                                        path_prefix chrom format\n",
       "0  ukbiobank  all_chromosomes_SNPs_merged_PGS002724_PGS00372...        bfile"
      ]
     },
     "execution_count": 39,
     "metadata": {},
     "output_type": "execute_result"
    }
   ],
   "source": [
    "out_fp = out_file + outname\n",
    "print(out_fp)\n",
    "list_df.to_csv(out_fp, index = False)\n",
    "list_df"
   ]
  },
  {
   "cell_type": "code",
   "execution_count": 54,
   "id": "506dbd64",
   "metadata": {},
   "outputs": [
    {
     "name": "stdout",
     "output_type": "stream",
     "text": [
      ":) Please run the following command on your terminal after logging into DNAnexus to upload the samplesheet for PGSC Calculator to \n",
      " the following folder on DNAnexus portal for UK Biobank:  IBD_Projects_Saniya:/combined_saniya_demo/:\n",
      "\n",
      "dx upload /Users/sk37/Desktop/newest_demo/samplesheet/pgsc_calc_PGS002724_PGS003725_PGS005097_GRCh37_samplesheet.csv --destination IBD_Projects_Saniya:/combined_saniya_demo/ --brief\n"
     ]
    }
   ],
   "source": [
    "print(\":) Please run the following command on your terminal after logging into DNAnexus to upload the samplesheet for PGSC Calculator to \")\n",
    "print(f\" the following folder on DNAnexus portal for UK Biobank:  {dna_nexus_project_folder}:\\n\")\n",
    "command3 = f\"dx upload {out_fp} --destination {dna_nexus_project_folder} --brief\"\n",
    "print(command3)"
   ]
  }
 ],
 "metadata": {
  "kernelspec": {
   "display_name": "Python 3",
   "language": "python",
   "name": "python3"
  },
  "language_info": {
   "codemirror_mode": {
    "name": "ipython",
    "version": 3
   },
   "file_extension": ".py",
   "mimetype": "text/x-python",
   "name": "python",
   "nbconvert_exporter": "python",
   "pygments_lexer": "ipython3",
   "version": "3.9.6"
  }
 },
 "nbformat": 4,
 "nbformat_minor": 5
}
